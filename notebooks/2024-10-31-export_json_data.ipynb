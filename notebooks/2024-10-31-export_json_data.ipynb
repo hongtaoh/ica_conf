{
 "cells": [
  {
   "cell_type": "markdown",
   "metadata": {},
   "source": [
    "This is a very important notebook. \n",
    "\n",
    "In this notebook, I explain how I convert the `csv` files into `json` files for api. "
   ]
  },
  {
   "cell_type": "markdown",
   "metadata": {},
   "source": [
    "## Expand paper.json\n",
    "\n",
    "Let's first add `authorships` and `author_names`. "
   ]
  },
  {
   "cell_type": "code",
   "execution_count": 31,
   "metadata": {},
   "outputs": [],
   "source": [
    "import pandas as pd \n",
    "import numpy as np \n",
    "from json import loads, dumps\n",
    "from collections import OrderedDict"
   ]
  },
  {
   "cell_type": "code",
   "execution_count": 32,
   "metadata": {},
   "outputs": [
    {
     "data": {
      "text/html": [
       "<div>\n",
       "<style scoped>\n",
       "    .dataframe tbody tr th:only-of-type {\n",
       "        vertical-align: middle;\n",
       "    }\n",
       "\n",
       "    .dataframe tbody tr th {\n",
       "        vertical-align: top;\n",
       "    }\n",
       "\n",
       "    .dataframe thead th {\n",
       "        text-align: right;\n",
       "    }\n",
       "</style>\n",
       "<table border=\"1\" class=\"dataframe\">\n",
       "  <thead>\n",
       "    <tr style=\"text-align: right;\">\n",
       "      <th></th>\n",
       "      <th>paper_id</th>\n",
       "      <th>title</th>\n",
       "      <th>paper_type</th>\n",
       "      <th>abstract</th>\n",
       "      <th>number_of_authors</th>\n",
       "      <th>year</th>\n",
       "      <th>session</th>\n",
       "      <th>division</th>\n",
       "    </tr>\n",
       "  </thead>\n",
       "  <tbody>\n",
       "    <tr>\n",
       "      <th>0</th>\n",
       "      <td>2003-0001</td>\n",
       "      <td>Access to the Media Versus Access to Audiences...</td>\n",
       "      <td>Paper</td>\n",
       "      <td>When the issue of speakers' rights of access a...</td>\n",
       "      <td>1.0</td>\n",
       "      <td>2003</td>\n",
       "      <td>NaN</td>\n",
       "      <td>NaN</td>\n",
       "    </tr>\n",
       "    <tr>\n",
       "      <th>1</th>\n",
       "      <td>2003-0002</td>\n",
       "      <td>Accounting Episodes as Communicative Practice ...</td>\n",
       "      <td>Paper</td>\n",
       "      <td>In this paper I describe accounting episodes a...</td>\n",
       "      <td>1.0</td>\n",
       "      <td>2003</td>\n",
       "      <td>NaN</td>\n",
       "      <td>NaN</td>\n",
       "    </tr>\n",
       "    <tr>\n",
       "      <th>2</th>\n",
       "      <td>2003-0003</td>\n",
       "      <td>Accounts of Single-fatherhood: A case study</td>\n",
       "      <td>Paper</td>\n",
       "      <td>Abstract\\nRelying on single-fathers accounts ...</td>\n",
       "      <td>4.0</td>\n",
       "      <td>2003</td>\n",
       "      <td>NaN</td>\n",
       "      <td>NaN</td>\n",
       "    </tr>\n",
       "    <tr>\n",
       "      <th>3</th>\n",
       "      <td>2003-0004</td>\n",
       "      <td>A Challenge to the Duel: Socializing Dedicated...</td>\n",
       "      <td>Paper</td>\n",
       "      <td>This paper explores the structural controls av...</td>\n",
       "      <td>1.0</td>\n",
       "      <td>2003</td>\n",
       "      <td>NaN</td>\n",
       "      <td>NaN</td>\n",
       "    </tr>\n",
       "    <tr>\n",
       "      <th>4</th>\n",
       "      <td>2003-0005</td>\n",
       "      <td>A chatroom ethnography: Evolution of community...</td>\n",
       "      <td>Paper</td>\n",
       "      <td>In creating an ethnography about the City, Tex...</td>\n",
       "      <td>1.0</td>\n",
       "      <td>2003</td>\n",
       "      <td>NaN</td>\n",
       "      <td>NaN</td>\n",
       "    </tr>\n",
       "  </tbody>\n",
       "</table>\n",
       "</div>"
      ],
      "text/plain": [
       "    paper_id                                              title paper_type  \\\n",
       "0  2003-0001  Access to the Media Versus Access to Audiences...      Paper   \n",
       "1  2003-0002  Accounting Episodes as Communicative Practice ...      Paper   \n",
       "2  2003-0003        Accounts of Single-fatherhood: A case study      Paper   \n",
       "3  2003-0004  A Challenge to the Duel: Socializing Dedicated...      Paper   \n",
       "4  2003-0005  A chatroom ethnography: Evolution of community...      Paper   \n",
       "\n",
       "                                            abstract  number_of_authors  year  \\\n",
       "0  When the issue of speakers' rights of access a...                1.0  2003   \n",
       "1  In this paper I describe accounting episodes a...                1.0  2003   \n",
       "2  Abstract\\nRelying on single-fathers accounts ...                4.0  2003   \n",
       "3  This paper explores the structural controls av...                1.0  2003   \n",
       "4  In creating an ethnography about the City, Tex...                1.0  2003   \n",
       "\n",
       "  session division  \n",
       "0     NaN      NaN  \n",
       "1     NaN      NaN  \n",
       "2     NaN      NaN  \n",
       "3     NaN      NaN  \n",
       "4     NaN      NaN  "
      ]
     },
     "execution_count": 32,
     "metadata": {},
     "output_type": "execute_result"
    }
   ],
   "source": [
    "papers = pd.read_csv('../data/processed/papers.csv')\n",
    "papers.columns = ['paper_id', 'title', 'paper_type', 'abstract', \n",
    "                  'number_of_authors', 'year', 'session', 'division', 'authors']\n",
    "papers.drop(['authors'], inplace=True, axis = 1)\n",
    "papers.head()"
   ]
  },
  {
   "cell_type": "code",
   "execution_count": 33,
   "metadata": {},
   "outputs": [],
   "source": [
    "paper_ids = papers.paper_id.unique()"
   ]
  },
  {
   "cell_type": "code",
   "execution_count": 34,
   "metadata": {},
   "outputs": [
    {
     "data": {
      "text/plain": [
       "{'paper_id': '2003-0002',\n",
       " 'title': 'Accounting Episodes as Communicative Practice Affecting Cultural Knowledge',\n",
       " 'paper_type': 'Paper',\n",
       " 'abstract': \"In this paper I describe accounting episodes as communicative practice that can affect participants' cultural knowledge in boundaries of speech communities. On the basis of in-depth interviews with Japanese-speaking informants in the United States, I analyze: (1) the episodes in which informants' cultural knowledge about appropriate conduct was affected or broadened by their engaging in accounting practices with American English speakers; and (2) the cases in which informants did not pursue the problematic events that they had faced with English speakers because, in reality, they saw difficulty in doing so. In the latter cases, informants' cultural knowledge and their perception of the boundaries tended to remain as they had been before the problematic events. The study supports the idea that boundaries of speech communities are dynamic but also suggests that they would not change so easily because participants often choose not to engage in accounting episodes.\",\n",
       " 'number_of_authors': 1.0,\n",
       " 'year': 2003,\n",
       " 'session': None,\n",
       " 'division': None}"
      ]
     },
     "execution_count": 34,
     "metadata": {},
     "output_type": "execute_result"
    }
   ],
   "source": [
    "papers_json = loads(papers.to_json(orient='records'))\n",
    "papers_json[1]"
   ]
  },
  {
   "cell_type": "code",
   "execution_count": 35,
   "metadata": {},
   "outputs": [
    {
     "data": {
      "text/html": [
       "<div>\n",
       "<style scoped>\n",
       "    .dataframe tbody tr th:only-of-type {\n",
       "        vertical-align: middle;\n",
       "    }\n",
       "\n",
       "    .dataframe tbody tr th {\n",
       "        vertical-align: top;\n",
       "    }\n",
       "\n",
       "    .dataframe thead th {\n",
       "        text-align: right;\n",
       "    }\n",
       "</style>\n",
       "<table border=\"1\" class=\"dataframe\">\n",
       "  <thead>\n",
       "    <tr style=\"text-align: right;\">\n",
       "      <th></th>\n",
       "      <th>Paper ID</th>\n",
       "      <th>Title</th>\n",
       "      <th>Number of Authors</th>\n",
       "      <th>Author Position</th>\n",
       "      <th>Author Name</th>\n",
       "      <th>Author Affiliation</th>\n",
       "      <th>Year</th>\n",
       "    </tr>\n",
       "  </thead>\n",
       "  <tbody>\n",
       "    <tr>\n",
       "      <th>0</th>\n",
       "      <td>2003-0001</td>\n",
       "      <td>Access to the Media Versus Access to Audiences...</td>\n",
       "      <td>1</td>\n",
       "      <td>1</td>\n",
       "      <td>Philip Napoli</td>\n",
       "      <td>Fordham U</td>\n",
       "      <td>2003</td>\n",
       "    </tr>\n",
       "    <tr>\n",
       "      <th>1</th>\n",
       "      <td>2003-0002</td>\n",
       "      <td>Accounting Episodes as Communicative Practice ...</td>\n",
       "      <td>1</td>\n",
       "      <td>1</td>\n",
       "      <td>Mariko Kotani</td>\n",
       "      <td>Aoyama Gakuin University</td>\n",
       "      <td>2003</td>\n",
       "    </tr>\n",
       "    <tr>\n",
       "      <th>2</th>\n",
       "      <td>2003-0003</td>\n",
       "      <td>Accounts of Single-fatherhood: A case study</td>\n",
       "      <td>4</td>\n",
       "      <td>1</td>\n",
       "      <td>Tara M Emmers-Sommer</td>\n",
       "      <td>University of Arizona</td>\n",
       "      <td>2003</td>\n",
       "    </tr>\n",
       "    <tr>\n",
       "      <th>3</th>\n",
       "      <td>2003-0003</td>\n",
       "      <td>Accounts of Single-fatherhood: A case study</td>\n",
       "      <td>4</td>\n",
       "      <td>2</td>\n",
       "      <td>David Rhea</td>\n",
       "      <td>University of Arizona</td>\n",
       "      <td>2003</td>\n",
       "    </tr>\n",
       "    <tr>\n",
       "      <th>4</th>\n",
       "      <td>2003-0003</td>\n",
       "      <td>Accounts of Single-fatherhood: A case study</td>\n",
       "      <td>4</td>\n",
       "      <td>3</td>\n",
       "      <td>Laura Triplett</td>\n",
       "      <td>University of Arizona</td>\n",
       "      <td>2003</td>\n",
       "    </tr>\n",
       "  </tbody>\n",
       "</table>\n",
       "</div>"
      ],
      "text/plain": [
       "    Paper ID                                              Title  \\\n",
       "0  2003-0001  Access to the Media Versus Access to Audiences...   \n",
       "1  2003-0002  Accounting Episodes as Communicative Practice ...   \n",
       "2  2003-0003        Accounts of Single-fatherhood: A case study   \n",
       "3  2003-0003        Accounts of Single-fatherhood: A case study   \n",
       "4  2003-0003        Accounts of Single-fatherhood: A case study   \n",
       "\n",
       "   Number of Authors  Author Position           Author Name  \\\n",
       "0                  1                1         Philip Napoli   \n",
       "1                  1                1         Mariko Kotani   \n",
       "2                  4                1  Tara M Emmers-Sommer   \n",
       "3                  4                2            David Rhea   \n",
       "4                  4                3        Laura Triplett   \n",
       "\n",
       "         Author Affiliation  Year  \n",
       "0                 Fordham U  2003  \n",
       "1  Aoyama Gakuin University  2003  \n",
       "2     University of Arizona  2003  \n",
       "3     University of Arizona  2003  \n",
       "4     University of Arizona  2003  "
      ]
     },
     "execution_count": 35,
     "metadata": {},
     "output_type": "execute_result"
    }
   ],
   "source": [
    "authors = pd.read_csv('../data/processed/authors.csv')\n",
    "authors.head()"
   ]
  },
  {
   "cell_type": "code",
   "execution_count": 36,
   "metadata": {},
   "outputs": [],
   "source": [
    "authorships_dict = {}\n",
    "paperid_authors_dic = {}\n",
    "# for every paper\n",
    "for paper_id, group in authors.groupby('Paper ID'):\n",
    "    paperid_authors_dic[paper_id] = list(group['Author Name'])\n",
    "    authorships = []\n",
    "    author_names = group['Author Name'].tolist()\n",
    "    affs = group['Author Affiliation'].tolist()\n",
    "    for i, author_name in enumerate(author_names):\n",
    "        dic = {}\n",
    "        dic['position'] = i\n",
    "        dic['author_name'] = author_name \n",
    "        dic['author_affiliation'] = affs[i]\n",
    "        authorships.append(dic)\n",
    "    authorships_dict[paper_id] = authorships"
   ]
  },
  {
   "cell_type": "code",
   "execution_count": 37,
   "metadata": {},
   "outputs": [
    {
     "data": {
      "text/plain": [
       "[{'position': 0,\n",
       "  'author_name': 'Christopher Starke',\n",
       "  'author_affiliation': 'U of Muenster'},\n",
       " {'position': 1,\n",
       "  'author_name': 'Frank Marcinkowski',\n",
       "  'author_affiliation': 'U Duesseldorf - D'}]"
      ]
     },
     "execution_count": 37,
     "metadata": {},
     "output_type": "execute_result"
    }
   ],
   "source": [
    "authorships_dict[paper_ids[-1]]"
   ]
  },
  {
   "cell_type": "code",
   "execution_count": 38,
   "metadata": {},
   "outputs": [
    {
     "name": "stdout",
     "output_type": "stream",
     "text": [
      "{'paper_id': '2005-0806', 'title': 'Interpersonal and Intrapersonal Motives to Acquire Information from Mediated Messages', 'paper_type': 'Paper', 'abstract': 'The present investigation explores the influences of interpersonal (intrinsic) and intrapersonal (extrinsic) motives on information acquisition from mediated messages, as well as the influences these motives may have on each other. Intrinsic and extrinsic motives were operationalized as personal interest and expectations of future relevant discussion, respectively. Respondents received a manipulation that elevated the expectation of discussing certain topics with unknown students and then viewed a newscast featuring these topics. Personal interest in and information acquisition of each message were assessed, along with anticipations of topical discussion with friends or family. Results showed that intrinsic and extrinsic interests related positively to information acquisition indicators for the relevant news stories. In addition, extrinsic motives were found to influence intrinsic motives. Implications for viewing traditional media effects research in conjunction with epistemic motivation research are discussed.', 'number_of_authors': None, 'year': 2005, 'session': 'Why and How We Communication: The Role of Motivation', 'division': 'Information Systems'}\n",
      "{'paper_id': '2005-0858', 'title': '\\x93Just Like Independence Day!\\x94 The Falling Towers On 9/11 and the Hegemonic Function of Intertextuality', 'paper_type': 'Paper', 'abstract': 'The focus of this study is to illustrate how the movie Independence Day served as a hegemonic\\nvehicle for unobtrusively reinforcing the Bush administration\\x92s interpretive framework of the\\n9/11 events. The basis for this argument subsists in the numerous intertextual references to the\\nmovie that appeared in mainstream media sources from the outset of the tragedy. Following\\nKellner\\x92s (1995) concept of \\x93ideological critique,\\x94 I first examine the narrative of Independence\\nDay through a comparison with Fight Club. Both movies portray analogous scenes of crumbling\\ntowers but in two different ideological contexts, which the comparison intends to highlight.\\nSecond, I examine the ideological subtext of Independence Day with those of two key speeches\\ngiven by president Bush. This second \\x91diagnostic\\x92 comparison offers evidence that similar\\nideologies underlie the narrative in Independence Day and Bush\\x92s speeches. I argue, therefore,\\nthat the intertextual references between Independence Day and the World Trade Center tragedy\\nwere functional in activating and promoting the hegemonic ascent of an interpretive framework\\nthat is consistent with the one proposed by the Bush administration.', 'number_of_authors': None, 'year': 2005, 'session': 'Intertextual Narratives of Time and Space', 'division': 'Popular Communication'}\n",
      "{'paper_id': '2005-1225', 'title': 'Reality Check of Perceived Conflicts: Experienced Conflicts by Public Relations Practitioners and Journalists', 'paper_type': 'Paper', 'abstract': 'In a national survey of 641 public relations practitioners and journalists using crisis communication strategies and conflict-cooperation scales, two professions reported experiencing verbal and behavioral conflicts in the source-reporter relationship. While both professions reported their experience of the behavioral conflicts in the relationship, they demonstrated discrepancies in experiences of \\x91grant privilege to the other profession,\\x92 \\x92promise material support,\\x92 \\x92give additional assistance\\x92 and other experiences related to \\x91confer\\x92 behaviors. Public relations practitioners reported \\x91confer\\x92 events in the source-reporter relationship more than did journalists. This study confirms the perceived conflicts of public relations professionals and journalists through their behavioral conflicts and reflects that journalists do not tend to admit the information subsidy function of public relations practitioners.', 'number_of_authors': None, 'year': 2005, 'session': 'Public Relations Plenary Interactive Paper Session', 'division': 'Public Relations'}\n",
      "{'paper_id': '2007-1020', 'title': 'New Media and the Middle East', 'paper_type': 'Session Paper', 'abstract': 'Scheduled Time: Sun May 27 2007, 12:00 to 1:15pm   Building/Room: Hilton Hotel, Grand Ballroom\\nIn Session Submission: International & Development Communication Interactive Paper Session', 'number_of_authors': None, 'year': 2007, 'session': 'International & Development Communication Interactive Paper Session', 'division': 'Intercultural & Development Communication'}\n"
     ]
    }
   ],
   "source": [
    "for paper_dic in papers_json:\n",
    "    try:\n",
    "        paper_dic['authorships'] = authorships_dict[paper_dic['paper_id']]\n",
    "        paper_dic['author_names'] = paperid_authors_dic[paper_dic['paper_id']]\n",
    "    except:\n",
    "        print(paper_dic)"
   ]
  },
  {
   "cell_type": "code",
   "execution_count": 39,
   "metadata": {},
   "outputs": [
    {
     "data": {
      "text/plain": [
       "{'paper_id': '2018-0255',\n",
       " 'title': 'The Impact of Presenting Physiological Data During Sporting Events on Audiences Entertainment',\n",
       " 'paper_type': 'Poster',\n",
       " 'abstract': 'Psychophysiological data has been useful in many domains and this study examines the use of such information in the domain of sports audiences. This study employs a four condition experiment in which participants watched a short sports clip displaying different physiological measures in the corner. The participants were then asked about their perceptions of the clip. Broadly, there was not much difference between groups based on the types of information presented, however, presenting blood pressure information proved to be the most entertaining for audiences. This provides early evidence that the presentation of physiological information during a sporting event can impact feelings of enjoyment, meaningfulness, and perceptions of knowledge of the sport. There is promise for these measures to be used in sports media provided that best practices are followed and attention is paid to important factors.',\n",
       " 'number_of_authors': 1.0,\n",
       " 'year': 2018,\n",
       " 'session': 'Sports Communication Interactive Poster Session',\n",
       " 'division': 'In Event: ICA Interactive Paper/Poster Session III',\n",
       " 'authorships': [{'position': 0,\n",
       "   'author_name': 'Yu-Hao Lee',\n",
       "   'author_affiliation': 'University of Florida'},\n",
       "  {'position': 1,\n",
       "   'author_name': 'Dave Mclean',\n",
       "   'author_affiliation': 'U of Florida'},\n",
       "  {'position': 2,\n",
       "   'author_name': 'Bruce Getz',\n",
       "   'author_affiliation': 'U of Florida'},\n",
       "  {'position': 3,\n",
       "   'author_name': 'Ryan Rogers',\n",
       "   'author_affiliation': 'Butler University'}],\n",
       " 'author_names': ['Yu-Hao Lee', 'Dave Mclean', 'Bruce Getz', 'Ryan Rogers']}"
      ]
     },
     "execution_count": 39,
     "metadata": {},
     "output_type": "execute_result"
    }
   ],
   "source": [
    "papers_json[-1]"
   ]
  },
  {
   "cell_type": "markdown",
   "metadata": {},
   "source": [
    "Now, let's add `session_info`:"
   ]
  },
  {
   "cell_type": "code",
   "execution_count": 40,
   "metadata": {},
   "outputs": [
    {
     "data": {
      "text/html": [
       "<div>\n",
       "<style scoped>\n",
       "    .dataframe tbody tr th:only-of-type {\n",
       "        vertical-align: middle;\n",
       "    }\n",
       "\n",
       "    .dataframe tbody tr th {\n",
       "        vertical-align: top;\n",
       "    }\n",
       "\n",
       "    .dataframe thead th {\n",
       "        text-align: right;\n",
       "    }\n",
       "</style>\n",
       "<table border=\"1\" class=\"dataframe\">\n",
       "  <thead>\n",
       "    <tr style=\"text-align: right;\">\n",
       "      <th></th>\n",
       "      <th>Year</th>\n",
       "      <th>Session Type</th>\n",
       "      <th>Session Title</th>\n",
       "      <th>Division/Unit</th>\n",
       "      <th>Chair Name</th>\n",
       "      <th>Chair Affiliation</th>\n",
       "    </tr>\n",
       "  </thead>\n",
       "  <tbody>\n",
       "    <tr>\n",
       "      <th>0</th>\n",
       "      <td>2014</td>\n",
       "      <td>Paper Session</td>\n",
       "      <td>Meda Coverage of Health Issues</td>\n",
       "      <td>Health Communication</td>\n",
       "      <td>Xiaoli Nan</td>\n",
       "      <td>U of Maryland</td>\n",
       "    </tr>\n",
       "    <tr>\n",
       "      <th>1</th>\n",
       "      <td>2014</td>\n",
       "      <td>Paper Session</td>\n",
       "      <td>Cognition and Health</td>\n",
       "      <td>Health Communication</td>\n",
       "      <td>Seth M. Noar</td>\n",
       "      <td>U of North Carolina</td>\n",
       "    </tr>\n",
       "    <tr>\n",
       "      <th>2</th>\n",
       "      <td>2014</td>\n",
       "      <td>Paper Session</td>\n",
       "      <td>Changing the News 140 Characters At a Time: Tw...</td>\n",
       "      <td>Journalism Studies</td>\n",
       "      <td>Seth C. Lewis</td>\n",
       "      <td>U of Minnesota</td>\n",
       "    </tr>\n",
       "    <tr>\n",
       "      <th>3</th>\n",
       "      <td>2014</td>\n",
       "      <td>Paper Session</td>\n",
       "      <td>Media and Political Contestation in Greater China</td>\n",
       "      <td>Global Communication and Social Change</td>\n",
       "      <td>Guobin Yang</td>\n",
       "      <td>University of Pennsylvania</td>\n",
       "    </tr>\n",
       "    <tr>\n",
       "      <th>4</th>\n",
       "      <td>2014</td>\n",
       "      <td>Paper Session</td>\n",
       "      <td>Between Science and the Public: Studies in Sci...</td>\n",
       "      <td>Journalism Studies</td>\n",
       "      <td>Henrik Ornebring</td>\n",
       "      <td>Karlstad U</td>\n",
       "    </tr>\n",
       "  </tbody>\n",
       "</table>\n",
       "</div>"
      ],
      "text/plain": [
       "   Year   Session Type                                      Session Title  \\\n",
       "0  2014  Paper Session                     Meda Coverage of Health Issues   \n",
       "1  2014  Paper Session                               Cognition and Health   \n",
       "2  2014  Paper Session  Changing the News 140 Characters At a Time: Tw...   \n",
       "3  2014  Paper Session  Media and Political Contestation in Greater China   \n",
       "4  2014  Paper Session  Between Science and the Public: Studies in Sci...   \n",
       "\n",
       "                            Division/Unit        Chair Name  \\\n",
       "0                    Health Communication        Xiaoli Nan   \n",
       "1                    Health Communication      Seth M. Noar   \n",
       "2                      Journalism Studies     Seth C. Lewis   \n",
       "3  Global Communication and Social Change       Guobin Yang   \n",
       "4                      Journalism Studies  Henrik Ornebring   \n",
       "\n",
       "            Chair Affiliation  \n",
       "0               U of Maryland  \n",
       "1         U of North Carolina  \n",
       "2              U of Minnesota  \n",
       "3  University of Pennsylvania  \n",
       "4                  Karlstad U  "
      ]
     },
     "execution_count": 40,
     "metadata": {},
     "output_type": "execute_result"
    }
   ],
   "source": [
    "sessions = pd.read_csv('../data/processed/sessions.csv')\n",
    "sessions.head()"
   ]
  },
  {
   "cell_type": "code",
   "execution_count": 41,
   "metadata": {},
   "outputs": [],
   "source": [
    "session_dic = {}\n",
    "for session, group in sessions.groupby('Session Title'):\n",
    "    dic = {}\n",
    "    dic['session'] = session\n",
    "    dic['session_type'] = group['Session Type'].tolist()[0]\n",
    "    dic['chair_name'] = group['Chair Name'].tolist()[0]\n",
    "    dic['chair_affiliation'] = group['Chair Affiliation'].tolist()[0]\n",
    "    dic['division'] = group['Division/Unit'].tolist()[0]\n",
    "    session_dic[session] = dic "
   ]
  },
  {
   "cell_type": "code",
   "execution_count": 42,
   "metadata": {},
   "outputs": [
    {
     "data": {
      "text/plain": [
       "{'session': 'Sports Communication Interactive Poster Session',\n",
       " 'session_type': 'Interactive Paper Session',\n",
       " 'chair_name': nan,\n",
       " 'chair_affiliation': nan,\n",
       " 'division': 'In Event: ICA Plenary Interactive Paper/Poster Session II'}"
      ]
     },
     "execution_count": 42,
     "metadata": {},
     "output_type": "execute_result"
    }
   ],
   "source": [
    "session_dic['Sports Communication Interactive Poster Session']"
   ]
  },
  {
   "cell_type": "code",
   "execution_count": 43,
   "metadata": {},
   "outputs": [],
   "source": [
    "for paper_dic in papers_json:\n",
    "    try:\n",
    "        paper_dic['session_info'] = session_dic[paper_dic['session']]\n",
    "    except:\n",
    "        # this is because even if papers have a session, \n",
    "        # this session might be included in sessions_df\n",
    "        paper_dic['session_info'] = np.nan"
   ]
  },
  {
   "cell_type": "code",
   "execution_count": 44,
   "metadata": {},
   "outputs": [
    {
     "data": {
      "text/plain": [
       "{'paper_id': '2018-0255',\n",
       " 'title': 'The Impact of Presenting Physiological Data During Sporting Events on Audiences Entertainment',\n",
       " 'paper_type': 'Poster',\n",
       " 'abstract': 'Psychophysiological data has been useful in many domains and this study examines the use of such information in the domain of sports audiences. This study employs a four condition experiment in which participants watched a short sports clip displaying different physiological measures in the corner. The participants were then asked about their perceptions of the clip. Broadly, there was not much difference between groups based on the types of information presented, however, presenting blood pressure information proved to be the most entertaining for audiences. This provides early evidence that the presentation of physiological information during a sporting event can impact feelings of enjoyment, meaningfulness, and perceptions of knowledge of the sport. There is promise for these measures to be used in sports media provided that best practices are followed and attention is paid to important factors.',\n",
       " 'number_of_authors': 1.0,\n",
       " 'year': 2018,\n",
       " 'session': 'Sports Communication Interactive Poster Session',\n",
       " 'division': 'In Event: ICA Interactive Paper/Poster Session III',\n",
       " 'authorships': [{'position': 0,\n",
       "   'author_name': 'Yu-Hao Lee',\n",
       "   'author_affiliation': 'University of Florida'},\n",
       "  {'position': 1,\n",
       "   'author_name': 'Dave Mclean',\n",
       "   'author_affiliation': 'U of Florida'},\n",
       "  {'position': 2,\n",
       "   'author_name': 'Bruce Getz',\n",
       "   'author_affiliation': 'U of Florida'},\n",
       "  {'position': 3,\n",
       "   'author_name': 'Ryan Rogers',\n",
       "   'author_affiliation': 'Butler University'}],\n",
       " 'author_names': ['Yu-Hao Lee', 'Dave Mclean', 'Bruce Getz', 'Ryan Rogers'],\n",
       " 'session_info': {'session': 'Sports Communication Interactive Poster Session',\n",
       "  'session_type': 'Interactive Paper Session',\n",
       "  'chair_name': nan,\n",
       "  'chair_affiliation': nan,\n",
       "  'division': 'In Event: ICA Plenary Interactive Paper/Poster Session II'}}"
      ]
     },
     "execution_count": 44,
     "metadata": {},
     "output_type": "execute_result"
    }
   ],
   "source": [
    "papers_json[-1]"
   ]
  },
  {
   "cell_type": "markdown",
   "metadata": {},
   "source": [
    "The above is the `papers.json`."
   ]
  },
  {
   "cell_type": "code",
   "execution_count": 57,
   "metadata": {},
   "outputs": [
    {
     "data": {
      "text/plain": [
       "{'paper_id': '2018-0255',\n",
       " 'title': 'The Impact of Presenting Physiological Data During Sporting Events on Audiences Entertainment',\n",
       " 'paper_type': 'Poster',\n",
       " 'abstract': 'Psychophysiological data has been useful in many domains and this study examines the use of such information in the domain of sports audiences. This study employs a four condition experiment in which participants watched a short sports clip displaying different physiological measures in the corner. The participants were then asked about their perceptions of the clip. Broadly, there was not much difference between groups based on the types of information presented, however, presenting blood pressure information proved to be the most entertaining for audiences. This provides early evidence that the presentation of physiological information during a sporting event can impact feelings of enjoyment, meaningfulness, and perceptions of knowledge of the sport. There is promise for these measures to be used in sports media provided that best practices are followed and attention is paid to important factors.',\n",
       " 'number_of_authors': 1.0,\n",
       " 'year': 2018,\n",
       " 'session': 'Sports Communication Interactive Poster Session',\n",
       " 'division': 'In Event: ICA Interactive Paper/Poster Session III',\n",
       " 'authorships': [{'position': 0,\n",
       "   'author_name': 'Yu-Hao Lee',\n",
       "   'author_affiliation': 'University of Florida'},\n",
       "  {'position': 1,\n",
       "   'author_name': 'Dave Mclean',\n",
       "   'author_affiliation': 'U of Florida'},\n",
       "  {'position': 2,\n",
       "   'author_name': 'Bruce Getz',\n",
       "   'author_affiliation': 'U of Florida'},\n",
       "  {'position': 3,\n",
       "   'author_name': 'Ryan Rogers',\n",
       "   'author_affiliation': 'Butler University'}],\n",
       " 'author_names': ['Yu-Hao Lee', 'Dave Mclean', 'Bruce Getz', 'Ryan Rogers'],\n",
       " 'session_info': {'session': 'Sports Communication Interactive Poster Session',\n",
       "  'session_type': 'Interactive Paper Session',\n",
       "  'chair_name': nan,\n",
       "  'chair_affiliation': nan,\n",
       "  'division': 'In Event: ICA Plenary Interactive Paper/Poster Session II',\n",
       "  'years': [2016, 2017, 2018],\n",
       "  'paper_count': 10}}"
      ]
     },
     "execution_count": 57,
     "metadata": {},
     "output_type": "execute_result"
    }
   ],
   "source": [
    "papers_json[-1]"
   ]
  },
  {
   "cell_type": "code",
   "execution_count": 46,
   "metadata": {},
   "outputs": [],
   "source": [
    "# sorted_papers_json = sorted(papers_json, key=lambda x: int(x['paper_id'].replace('-', '')))"
   ]
  },
  {
   "cell_type": "markdown",
   "metadata": {},
   "source": [
    "## Aggregated session data\n",
    "\n",
    "We want\n",
    "\n",
    "- `division`\n",
    "- `chair_name`\n",
    "- `chair_affiliation`\n",
    "- `session_type`\n",
    "- `paper_count`\n",
    "- `years`"
   ]
  },
  {
   "cell_type": "code",
   "execution_count": 47,
   "metadata": {},
   "outputs": [
    {
     "data": {
      "text/html": [
       "<div>\n",
       "<style scoped>\n",
       "    .dataframe tbody tr th:only-of-type {\n",
       "        vertical-align: middle;\n",
       "    }\n",
       "\n",
       "    .dataframe tbody tr th {\n",
       "        vertical-align: top;\n",
       "    }\n",
       "\n",
       "    .dataframe thead th {\n",
       "        text-align: right;\n",
       "    }\n",
       "</style>\n",
       "<table border=\"1\" class=\"dataframe\">\n",
       "  <thead>\n",
       "    <tr style=\"text-align: right;\">\n",
       "      <th></th>\n",
       "      <th>paper_id</th>\n",
       "      <th>title</th>\n",
       "      <th>paper_type</th>\n",
       "      <th>abstract</th>\n",
       "      <th>number_of_authors</th>\n",
       "      <th>year</th>\n",
       "      <th>session</th>\n",
       "      <th>division</th>\n",
       "    </tr>\n",
       "  </thead>\n",
       "  <tbody>\n",
       "    <tr>\n",
       "      <th>0</th>\n",
       "      <td>2003-0001</td>\n",
       "      <td>Access to the Media Versus Access to Audiences...</td>\n",
       "      <td>Paper</td>\n",
       "      <td>When the issue of speakers' rights of access a...</td>\n",
       "      <td>1.0</td>\n",
       "      <td>2003</td>\n",
       "      <td>NaN</td>\n",
       "      <td>NaN</td>\n",
       "    </tr>\n",
       "    <tr>\n",
       "      <th>1</th>\n",
       "      <td>2003-0002</td>\n",
       "      <td>Accounting Episodes as Communicative Practice ...</td>\n",
       "      <td>Paper</td>\n",
       "      <td>In this paper I describe accounting episodes a...</td>\n",
       "      <td>1.0</td>\n",
       "      <td>2003</td>\n",
       "      <td>NaN</td>\n",
       "      <td>NaN</td>\n",
       "    </tr>\n",
       "    <tr>\n",
       "      <th>2</th>\n",
       "      <td>2003-0003</td>\n",
       "      <td>Accounts of Single-fatherhood: A case study</td>\n",
       "      <td>Paper</td>\n",
       "      <td>Abstract\\nRelying on single-fathers accounts ...</td>\n",
       "      <td>4.0</td>\n",
       "      <td>2003</td>\n",
       "      <td>NaN</td>\n",
       "      <td>NaN</td>\n",
       "    </tr>\n",
       "    <tr>\n",
       "      <th>3</th>\n",
       "      <td>2003-0004</td>\n",
       "      <td>A Challenge to the Duel: Socializing Dedicated...</td>\n",
       "      <td>Paper</td>\n",
       "      <td>This paper explores the structural controls av...</td>\n",
       "      <td>1.0</td>\n",
       "      <td>2003</td>\n",
       "      <td>NaN</td>\n",
       "      <td>NaN</td>\n",
       "    </tr>\n",
       "    <tr>\n",
       "      <th>4</th>\n",
       "      <td>2003-0005</td>\n",
       "      <td>A chatroom ethnography: Evolution of community...</td>\n",
       "      <td>Paper</td>\n",
       "      <td>In creating an ethnography about the City, Tex...</td>\n",
       "      <td>1.0</td>\n",
       "      <td>2003</td>\n",
       "      <td>NaN</td>\n",
       "      <td>NaN</td>\n",
       "    </tr>\n",
       "  </tbody>\n",
       "</table>\n",
       "</div>"
      ],
      "text/plain": [
       "    paper_id                                              title paper_type  \\\n",
       "0  2003-0001  Access to the Media Versus Access to Audiences...      Paper   \n",
       "1  2003-0002  Accounting Episodes as Communicative Practice ...      Paper   \n",
       "2  2003-0003        Accounts of Single-fatherhood: A case study      Paper   \n",
       "3  2003-0004  A Challenge to the Duel: Socializing Dedicated...      Paper   \n",
       "4  2003-0005  A chatroom ethnography: Evolution of community...      Paper   \n",
       "\n",
       "                                            abstract  number_of_authors  year  \\\n",
       "0  When the issue of speakers' rights of access a...                1.0  2003   \n",
       "1  In this paper I describe accounting episodes a...                1.0  2003   \n",
       "2  Abstract\\nRelying on single-fathers accounts ...                4.0  2003   \n",
       "3  This paper explores the structural controls av...                1.0  2003   \n",
       "4  In creating an ethnography about the City, Tex...                1.0  2003   \n",
       "\n",
       "  session division  \n",
       "0     NaN      NaN  \n",
       "1     NaN      NaN  \n",
       "2     NaN      NaN  \n",
       "3     NaN      NaN  \n",
       "4     NaN      NaN  "
      ]
     },
     "execution_count": 47,
     "metadata": {},
     "output_type": "execute_result"
    }
   ],
   "source": [
    "papers.head()"
   ]
  },
  {
   "cell_type": "code",
   "execution_count": 48,
   "metadata": {},
   "outputs": [],
   "source": [
    "for session, group in papers.groupby('session'):\n",
    "    # groupby excludes rows with nan values\n",
    "    if session in session_dic:\n",
    "        session_dic[session]['years'] = list(group.year.unique())\n",
    "        session_dic[session]['paper_count'] = len(group)\n",
    "    else:\n",
    "        dic = {}\n",
    "        dic['session'] = session\n",
    "        dic['years'] = list(group.year.unique())\n",
    "        dic['paper_count'] = len(group)\n",
    "        dic['session_type'] = np.nan \n",
    "        dic['chair_name'] = np.nan \n",
    "        dic['chair_affiliation'] = np.nan\n",
    "        try:\n",
    "            dic['division'] = group.division.unique()[0]\n",
    "        except:\n",
    "            dic['division'] = np.nan\n",
    "        session_dic[session] = dic"
   ]
  },
  {
   "cell_type": "code",
   "execution_count": 49,
   "metadata": {},
   "outputs": [],
   "source": [
    "sessions_json = list(session_dic.values())"
   ]
  },
  {
   "cell_type": "code",
   "execution_count": 50,
   "metadata": {},
   "outputs": [
    {
     "data": {
      "text/plain": [
       "{'session': '“I’m Ready for My Close-Up”: Representations of Women and Gender on Reality Television (Panel Session)',\n",
       " 'years': [2013],\n",
       " 'paper_count': 4,\n",
       " 'session_type': nan,\n",
       " 'chair_name': nan,\n",
       " 'chair_affiliation': nan,\n",
       " 'division': 'Mass Communication'}"
      ]
     },
     "execution_count": 50,
     "metadata": {},
     "output_type": "execute_result"
    }
   ],
   "source": [
    "sessions_json[-1]"
   ]
  },
  {
   "cell_type": "markdown",
   "metadata": {},
   "source": [
    "## Aggregated author data"
   ]
  },
  {
   "cell_type": "code",
   "execution_count": 51,
   "metadata": {},
   "outputs": [],
   "source": [
    "authors_json = []\n",
    "for author_name, group in authors.groupby('Author Name'):\n",
    "    # sort by year to make sure affs are in temporal order \n",
    "    group.sort_values('Year', ascending=True, inplace=True)\n",
    "    paper_ids = list(group['Paper ID'].unique())\n",
    "    affs = group['Author Affiliation'].unique()\n",
    "    years = list(group['Year'].unique())\n",
    "    dic = {\n",
    "        'author_name': author_name,\n",
    "        'attend_count': len(years),\n",
    "        'paper_count': len(paper_ids),\n",
    "        'paper_ids': paper_ids,\n",
    "        'affiliation': \" -> \".join(map(str, affs)),\n",
    "        'years_attended': years,\n",
    "    }\n",
    "    authors_json.append(dic)"
   ]
  },
  {
   "cell_type": "code",
   "execution_count": 52,
   "metadata": {},
   "outputs": [
    {
     "data": {
      "text/plain": [
       "21038"
      ]
     },
     "execution_count": 52,
     "metadata": {},
     "output_type": "execute_result"
    }
   ],
   "source": [
    "len(authors_json)"
   ]
  },
  {
   "cell_type": "code",
   "execution_count": 53,
   "metadata": {},
   "outputs": [
    {
     "data": {
      "text/plain": [
       "{'author_name': 'Andrew Kamau',\n",
       " 'attend_count': 1,\n",
       " 'paper_count': 1,\n",
       " 'paper_ids': ['2017-0020'],\n",
       " 'affiliation': 'Code for Africa',\n",
       " 'years_attended': [2017]}"
      ]
     },
     "execution_count": 53,
     "metadata": {},
     "output_type": "execute_result"
    }
   ],
   "source": [
    "authors_json[1001]"
   ]
  },
  {
   "cell_type": "code",
   "execution_count": 54,
   "metadata": {},
   "outputs": [],
   "source": [
    "# pd.DataFrame(dicts[0:100]).sort_values(by='attend_count', ascending=False)"
   ]
  },
  {
   "cell_type": "code",
   "execution_count": 55,
   "metadata": {},
   "outputs": [],
   "source": [
    "sorted_authors_json = sorted(authors_json, key=lambda x: x['attend_count'], reverse=True)"
   ]
  },
  {
   "cell_type": "code",
   "execution_count": 56,
   "metadata": {},
   "outputs": [
    {
     "data": {
      "text/plain": [
       "{'author_name': 'Åsa Kroon',\n",
       " 'attend_count': 1,\n",
       " 'paper_count': 1,\n",
       " 'paper_ids': ['2007-1782'],\n",
       " 'affiliation': 'Örebro U',\n",
       " 'years_attended': [2007]}"
      ]
     },
     "execution_count": 56,
     "metadata": {},
     "output_type": "execute_result"
    }
   ],
   "source": [
    "sorted_authors_json[-1]"
   ]
  }
 ],
 "metadata": {
  "kernelspec": {
   "display_name": "farm",
   "language": "python",
   "name": "python3"
  },
  "language_info": {
   "codemirror_mode": {
    "name": "ipython",
    "version": 3
   },
   "file_extension": ".py",
   "mimetype": "text/x-python",
   "name": "python",
   "nbconvert_exporter": "python",
   "pygments_lexer": "ipython3",
   "version": "3.11.5"
  }
 },
 "nbformat": 4,
 "nbformat_minor": 2
}
