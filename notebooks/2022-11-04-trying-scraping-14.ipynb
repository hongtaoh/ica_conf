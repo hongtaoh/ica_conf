{
 "cells": [
  {
   "cell_type": "code",
   "execution_count": 1,
   "id": "24ea4fcd",
   "metadata": {},
   "outputs": [],
   "source": [
    "import pandas as pd\n",
    "import numpy as np\n",
    "import time \n",
    "import math\n",
    "import re\n",
    "from selenium import webdriver\n",
    "from selenium.webdriver.common.by import By\n",
    "from selenium.webdriver.support.ui import WebDriverWait\n",
    "from selenium.webdriver.support import expected_conditions as EC \n",
    "from selenium.common.exceptions import TimeoutException\n",
    "from selenium.webdriver.support.ui import Select"
   ]
  },
  {
   "cell_type": "code",
   "execution_count": 2,
   "id": "bcbf274f",
   "metadata": {},
   "outputs": [],
   "source": [
    "driver = webdriver.Firefox()\n",
    "wait = WebDriverWait(driver, 10)"
   ]
  },
  {
   "cell_type": "code",
   "execution_count": 3,
   "id": "5a3a04ff",
   "metadata": {},
   "outputs": [],
   "source": [
    "driver.get('https://convention2.allacademic.com/one/ica/ica15/')"
   ]
  },
  {
   "cell_type": "code",
   "execution_count": 4,
   "id": "e59979cc",
   "metadata": {},
   "outputs": [],
   "source": [
    "browse_by_session_type = driver.find_elements(\n",
    "    By.CSS_SELECTOR, \"li.ui-li-has-icon.ui-last-child > a\"\n",
    ")[3]"
   ]
  },
  {
   "cell_type": "code",
   "execution_count": 5,
   "id": "c2df26fb",
   "metadata": {},
   "outputs": [],
   "source": [
    "browse_by_session_type.click()"
   ]
  },
  {
   "cell_type": "code",
   "execution_count": 6,
   "id": "f9ba5207",
   "metadata": {},
   "outputs": [],
   "source": [
    "paper_session = driver.find_element(\n",
    "    By.XPATH, '//li[@class=\"ui-li-has-count\"][3] //a[@class=\"ui-btn\"]'\n",
    ")"
   ]
  },
  {
   "cell_type": "code",
   "execution_count": 7,
   "id": "49b77fed",
   "metadata": {},
   "outputs": [],
   "source": [
    "paper_session.click()"
   ]
  },
  {
   "cell_type": "code",
   "execution_count": 8,
   "id": "fd835d79",
   "metadata": {},
   "outputs": [],
   "source": [
    "sessions = driver.find_elements(\n",
    "    By.CSS_SELECTOR, 'li.ui-li-has-alt'\n",
    ")"
   ]
  },
  {
   "cell_type": "code",
   "execution_count": 9,
   "id": "0df72403",
   "metadata": {},
   "outputs": [
    {
     "data": {
      "text/plain": [
       "292"
      ]
     },
     "execution_count": 9,
     "metadata": {},
     "output_type": "execute_result"
    }
   ],
   "source": [
    "len(sessions)"
   ]
  },
  {
   "cell_type": "markdown",
   "id": "828680ac",
   "metadata": {},
   "source": [
    "## Session example"
   ]
  },
  {
   "cell_type": "code",
   "execution_count": 10,
   "id": "69f58784",
   "metadata": {},
   "outputs": [],
   "source": [
    "first = sessions[43]"
   ]
  },
  {
   "cell_type": "code",
   "execution_count": 11,
   "id": "edb7460f",
   "metadata": {},
   "outputs": [],
   "source": [
    "first.click()"
   ]
  },
  {
   "cell_type": "code",
   "execution_count": 12,
   "id": "6003f1a5",
   "metadata": {},
   "outputs": [
    {
     "data": {
      "text/plain": [
       "'B.E.S.T.: Organizations, Communication, and Technology'"
      ]
     },
     "execution_count": 12,
     "metadata": {},
     "output_type": "execute_result"
    }
   ],
   "source": [
    "session_title_e = driver.find_element(\n",
    "    By.CSS_SELECTOR, 'h3'\n",
    ")\n",
    "session_title = session_title_e.text\n",
    "session_title"
   ]
  },
  {
   "cell_type": "code",
   "execution_count": 13,
   "id": "c92e3f33",
   "metadata": {},
   "outputs": [
    {
     "data": {
      "text/plain": [
       "True"
      ]
     },
     "execution_count": 13,
     "metadata": {},
     "output_type": "execute_result"
    }
   ],
   "source": [
    "'Preconference' not in session_title"
   ]
  },
  {
   "cell_type": "code",
   "execution_count": 14,
   "id": "6c4c546e",
   "metadata": {},
   "outputs": [],
   "source": [
    "h4s = driver.find_elements(\n",
    "    By.CSS_SELECTOR, 'h4'\n",
    ")"
   ]
  },
  {
   "cell_type": "code",
   "execution_count": 15,
   "id": "6982674b",
   "metadata": {},
   "outputs": [
    {
     "name": "stdout",
     "output_type": "stream",
     "text": [
      "Abstract\n",
      "Sub Unit\n",
      "Chair\n",
      "Individual Presentations\n",
      "Respondents\n"
     ]
    }
   ],
   "source": [
    "for h4 in h4s:\n",
    "    print(h4.text)"
   ]
  },
  {
   "cell_type": "code",
   "execution_count": 16,
   "id": "3c1cbc67",
   "metadata": {},
   "outputs": [],
   "source": [
    "h4s_texts = [i.text for i in h4s]\n",
    "sub_unit_e_idx = h4s_texts.index('Sub Unit')\n",
    "# chair_e_idx = h4s_texts.index('Chair')"
   ]
  },
  {
   "cell_type": "code",
   "execution_count": 17,
   "id": "61207c68",
   "metadata": {},
   "outputs": [
    {
     "data": {
      "text/plain": [
       "1"
      ]
     },
     "execution_count": 17,
     "metadata": {},
     "output_type": "execute_result"
    }
   ],
   "source": [
    "sub_unit_e_idx\n",
    "# chair_e_idx"
   ]
  },
  {
   "cell_type": "code",
   "execution_count": 18,
   "id": "e82ba7a8",
   "metadata": {},
   "outputs": [
    {
     "data": {
      "text/plain": [
       "3"
      ]
     },
     "execution_count": 18,
     "metadata": {},
     "output_type": "execute_result"
    }
   ],
   "source": [
    "h4s_texts.index('Individual Presentations')"
   ]
  },
  {
   "cell_type": "code",
   "execution_count": 22,
   "id": "b28fa7cd",
   "metadata": {},
   "outputs": [],
   "source": [
    "sub_unit_e = driver.find_elements(\n",
    "    By.CSS_SELECTOR, 'ul.ui-listview.ui-listview-inset.ui-corner-all.ui-shadow'\n",
    ")[4]"
   ]
  },
  {
   "cell_type": "code",
   "execution_count": 23,
   "id": "8fbcf09e",
   "metadata": {},
   "outputs": [
    {
     "data": {
      "text/plain": [
       "'Organizational Communication'"
      ]
     },
     "execution_count": 23,
     "metadata": {},
     "output_type": "execute_result"
    }
   ],
   "source": [
    "sub_unit = sub_unit_e.text\n",
    "sub_unit"
   ]
  },
  {
   "cell_type": "code",
   "execution_count": 24,
   "id": "611bb3ef",
   "metadata": {},
   "outputs": [
    {
     "data": {
      "text/plain": [
       "('Craig R. Scott', 'Rutgers U')"
      ]
     },
     "execution_count": 24,
     "metadata": {},
     "output_type": "execute_result"
    }
   ],
   "source": [
    "chair_e = driver.find_elements(\n",
    "    By.CSS_SELECTOR, 'ul.ui-listview.ui-listview-inset.ui-corner-all.ui-shadow'\n",
    ")[5]\n",
    "chair_info = chair_e.text\n",
    "chair_name = chair_info.split(', ')[0]\n",
    "chair_aff = chair_info.split(', ')[1]\n",
    "chair_name, chair_aff"
   ]
  },
  {
   "cell_type": "markdown",
   "id": "45d21f2b",
   "metadata": {},
   "source": [
    "## Paper example"
   ]
  },
  {
   "cell_type": "code",
   "execution_count": 31,
   "id": "eb52e5bf",
   "metadata": {},
   "outputs": [],
   "source": [
    "# I do not know why but the first two selections are not paper elements. I need to remove them. \n",
    "papers = driver.find_elements(\n",
    "    By.CSS_SELECTOR, 'ul.ui-listview.ui-listview-inset.ui-corner-all.ui-shadow:nth-last-child(3)  a.ui-icon-carat-r'\n",
    ")[2:]"
   ]
  },
  {
   "cell_type": "code",
   "execution_count": 32,
   "id": "8f113b3b",
   "metadata": {},
   "outputs": [
    {
     "data": {
      "text/plain": [
       "9"
      ]
     },
     "execution_count": 32,
     "metadata": {},
     "output_type": "execute_result"
    }
   ],
   "source": [
    "len(papers)"
   ]
  },
  {
   "cell_type": "code",
   "execution_count": 33,
   "id": "7674260f",
   "metadata": {},
   "outputs": [],
   "source": [
    "papers[0].click()"
   ]
  },
  {
   "cell_type": "code",
   "execution_count": 34,
   "id": "dbc7135c",
   "metadata": {},
   "outputs": [],
   "source": [
    "paper_title_e = driver.find_element(\n",
    "    By.CSS_SELECTOR, 'h3'\n",
    ")"
   ]
  },
  {
   "cell_type": "code",
   "execution_count": 36,
   "id": "62ba91c0",
   "metadata": {},
   "outputs": [
    {
     "data": {
      "text/plain": [
       "'The Practical Paradox of Technology: The Influence of Communication Technology Use on Employee Well-Being'"
      ]
     },
     "execution_count": 36,
     "metadata": {},
     "output_type": "execute_result"
    }
   ],
   "source": [
    "paper_title = paper_title_e.text\n",
    "paper_title"
   ]
  },
  {
   "cell_type": "code",
   "execution_count": 37,
   "id": "3602b736",
   "metadata": {},
   "outputs": [],
   "source": [
    "abstract = driver.find_element(\n",
    "    By.CSS_SELECTOR, 'blockquote > p'\n",
    ")"
   ]
  },
  {
   "cell_type": "code",
   "execution_count": 38,
   "id": "1e4bcede",
   "metadata": {},
   "outputs": [
    {
     "data": {
      "text/plain": [
       "'Technological advancements in the workplace produce contrasting consequences, by facilitating greater accessibility and efficiency while also enabling increased interruptions and an unpredictable work environment. This study combines insights from organizational paradoxes and the Job Demands –Resources (JD-R) model to present a framework identifying the underlying positive and negative mechanisms in the relationship between communication technology use (CTU) and employee well-being, operationalized as work related burnout and work engagement. As hypothesized, our model (N=663) demonstrates that CTU increases well-being through positive pathways (accessibility and efficiency) and decreases well-being through negative pathways (interruptions and unpredictability). This study underlines the importance of simultaneously studying the CTU resources and demands to fully grasp the relationship between CTU and employee well-being. Also, it highlights the importance of considering the downsides of CTU for a successful implementation of new communication technologies or flexible work designs.'"
      ]
     },
     "execution_count": 38,
     "metadata": {},
     "output_type": "execute_result"
    }
   ],
   "source": [
    "abstract.text"
   ]
  },
  {
   "cell_type": "code",
   "execution_count": 39,
   "id": "142ab478",
   "metadata": {},
   "outputs": [],
   "source": [
    "authors = driver.find_elements(\n",
    "    By.CSS_SELECTOR, 'ul.ui-listview.ui-listview-inset.ui-corner-all.ui-shadow:last-child  a.ui-icon-carat-r'\n",
    ")[2:]"
   ]
  },
  {
   "cell_type": "code",
   "execution_count": 40,
   "id": "bbf17d2d",
   "metadata": {},
   "outputs": [
    {
     "data": {
      "text/plain": [
       "3"
      ]
     },
     "execution_count": 40,
     "metadata": {},
     "output_type": "execute_result"
    }
   ],
   "source": [
    "len(authors)"
   ]
  },
  {
   "cell_type": "code",
   "execution_count": 42,
   "id": "841aa80e",
   "metadata": {},
   "outputs": [
    {
     "data": {
      "text/plain": [
       "['Claartje L. ter Hoeven', 'ASCoR, U of Amsterdam']"
      ]
     },
     "execution_count": 42,
     "metadata": {},
     "output_type": "execute_result"
    }
   ],
   "source": [
    "authors[0].text.split(', ', 1)"
   ]
  },
  {
   "cell_type": "code",
   "execution_count": 43,
   "id": "7c582128",
   "metadata": {},
   "outputs": [],
   "source": [
    "a = 0"
   ]
  },
  {
   "cell_type": "code",
   "execution_count": 44,
   "id": "79717dda",
   "metadata": {},
   "outputs": [
    {
     "data": {
      "text/plain": [
       "'0000'"
      ]
     },
     "execution_count": 44,
     "metadata": {},
     "output_type": "execute_result"
    }
   ],
   "source": [
    "str(a).zfill(4)"
   ]
  },
  {
   "cell_type": "code",
   "execution_count": null,
   "id": "1090f4be",
   "metadata": {},
   "outputs": [],
   "source": []
  }
 ],
 "metadata": {
  "kernelspec": {
   "display_name": "Python 3 (ipykernel)",
   "language": "python",
   "name": "python3"
  },
  "language_info": {
   "codemirror_mode": {
    "name": "ipython",
    "version": 3
   },
   "file_extension": ".py",
   "mimetype": "text/x-python",
   "name": "python",
   "nbconvert_exporter": "python",
   "pygments_lexer": "ipython3",
   "version": "3.8.13"
  }
 },
 "nbformat": 4,
 "nbformat_minor": 5
}
