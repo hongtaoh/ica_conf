{
 "cells": [
  {
   "cell_type": "code",
   "execution_count": 13,
   "metadata": {},
   "outputs": [],
   "source": [
    "from fuzzywuzzy import fuzz\n",
    "\n",
    "def deduplicate_affiliations(affs, threshold=55):\n",
    "    res = []\n",
    "    seen = set()\n",
    "    for aff in affs:\n",
    "        if aff in seen:\n",
    "            continue \n",
    "        similar_affs = [other_aff for other_aff in affs \n",
    "                        if other_aff not in seen and \n",
    "                        fuzz.ratio(aff, other_aff) > threshold\n",
    "                        ]\n",
    "        longest_aff = max(similar_affs, key=len)\n",
    "        res.append(longest_aff)\n",
    "        seen.update(similar_affs)\n",
    "    return res"
   ]
  },
  {
   "cell_type": "code",
   "execution_count": 14,
   "metadata": {},
   "outputs": [],
   "source": [
    "affiliations_test_cases = [\n",
    "    # Claes H. De Vreese\n",
    "    [\n",
    "        \"University of Amsterdam\",\n",
    "        \"U of Amsterdam, ASCoR\",\n",
    "        \"U of Amsterdam\"\n",
    "    ],\n",
    "    \n",
    "    # Jochen Peter\n",
    "    [\n",
    "        \"University of Amsterdam\",\n",
    "        \"U of Amsterdam\"\n",
    "    ],\n",
    "    \n",
    "    # Jonathan Cohen\n",
    "    [\n",
    "        \"University of Haifa\",\n",
    "        \"U of New Hampshire\",\n",
    "        \"U of Haifa\"\n",
    "    ],\n",
    "    \n",
    "    # Lijiang Shen\n",
    "    [\n",
    "        \"U of Wisconsin - Madison\",\n",
    "        \"UW-Madison\",\n",
    "        \"University of Wisconsin-Madison\",\n",
    "        \"U of Georgia\",\n",
    "        \"Pennsylvania State University\"\n",
    "    ],\n",
    "    \n",
    "    # Miriam Metzger\n",
    "    [\n",
    "        \"U of California - Santa Barbara\",\n",
    "        \"U of California\"\n",
    "    ],\n",
    "    \n",
    "    # Patti M. Valkenburg\n",
    "    [\n",
    "        \"University of Amsterdam\",\n",
    "        \"U of Amsterdam\"\n",
    "    ],\n",
    "    \n",
    "    # Robert Larose\n",
    "    [\n",
    "        \"Michigan State U\",\n",
    "        \"National Chiao Tung University\"\n",
    "    ],\n",
    "    \n",
    "    # S. Shyam Sundar\n",
    "    [\n",
    "        \"Pennsylvania State U\",\n",
    "        \"Pennsylvania State University\",\n",
    "        \"Sungkyunkwan Univ\",\n",
    "        \"The Pennsylvania State University\"\n",
    "    ]\n",
    "]"
   ]
  },
  {
   "cell_type": "code",
   "execution_count": 15,
   "metadata": {},
   "outputs": [
    {
     "name": "stdout",
     "output_type": "stream",
     "text": [
      "['University of Amsterdam']\n",
      "['University of Amsterdam']\n",
      "['University of Haifa', 'U of New Hampshire']\n",
      "['University of Wisconsin-Madison', 'U of Georgia', 'Pennsylvania State University']\n",
      "['U of California - Santa Barbara']\n",
      "['University of Amsterdam']\n",
      "['Michigan State U', 'National Chiao Tung University']\n",
      "['The Pennsylvania State University', 'Sungkyunkwan Univ']\n"
     ]
    }
   ],
   "source": [
    "for l in affiliations_test_cases:\n",
    "    print(deduplicate_affiliations(l))"
   ]
  }
 ],
 "metadata": {
  "kernelspec": {
   "display_name": "farm",
   "language": "python",
   "name": "python3"
  },
  "language_info": {
   "codemirror_mode": {
    "name": "ipython",
    "version": 3
   },
   "file_extension": ".py",
   "mimetype": "text/x-python",
   "name": "python",
   "nbconvert_exporter": "python",
   "pygments_lexer": "ipython3",
   "version": "3.11.6"
  }
 },
 "nbformat": 4,
 "nbformat_minor": 2
}
