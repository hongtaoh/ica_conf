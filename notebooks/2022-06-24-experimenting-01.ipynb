{
 "cells": [
  {
   "cell_type": "markdown",
   "id": "22e63536",
   "metadata": {},
   "source": [
    "## Aim\n",
    "\n",
    "In this notebook, I experimented how to access elements in ica conf website. This notebook is not very useful right now, as the second notebook actually has the code to iterate all the pages. However, this notebook is helpful later when I access and store information. "
   ]
  },
  {
   "cell_type": "code",
   "execution_count": 1,
   "id": "38efbc5f",
   "metadata": {},
   "outputs": [],
   "source": [
    "import pandas as pd\n",
    "import time \n",
    "import re\n",
    "from selenium import webdriver\n",
    "from selenium.webdriver.common.by import By\n",
    "from selenium.webdriver.support.ui import WebDriverWait\n",
    "from selenium.webdriver.support import expected_conditions as EC \n",
    "from selenium.common.exceptions import TimeoutException"
   ]
  },
  {
   "cell_type": "code",
   "execution_count": 2,
   "id": "6ec5f4f8",
   "metadata": {},
   "outputs": [],
   "source": [
    "driver = webdriver.Firefox()\n",
    "wait = WebDriverWait(driver, 10)"
   ]
  },
  {
   "cell_type": "code",
   "execution_count": 3,
   "id": "791b2f43",
   "metadata": {},
   "outputs": [],
   "source": [
    "driver.get('https://convention2.allacademic.com/one/ica/ica04/')"
   ]
  },
  {
   "cell_type": "code",
   "execution_count": 4,
   "id": "65031ddf",
   "metadata": {},
   "outputs": [],
   "source": [
    "search_papers = wait.until(EC.element_to_be_clickable((\n",
    "    By.CSS_SELECTOR, \"div.menu_item__icon_text_window__text > a.mainmenu_text\"\n",
    ")))"
   ]
  },
  {
   "cell_type": "code",
   "execution_count": 5,
   "id": "55bdaf2a",
   "metadata": {},
   "outputs": [],
   "source": [
    "search_papers.click()"
   ]
  },
  {
   "cell_type": "code",
   "execution_count": 6,
   "id": "e68a8713",
   "metadata": {},
   "outputs": [],
   "source": [
    "papers = driver.find_elements(\n",
    "    By.CSS_SELECTOR, 'tr.worksheet_window__row__light, tr.worksheet_window__row__dark'\n",
    ")\n"
   ]
  },
  {
   "cell_type": "code",
   "execution_count": 7,
   "id": "e7eb8266",
   "metadata": {},
   "outputs": [
    {
     "data": {
      "text/plain": [
       "50"
      ]
     },
     "execution_count": 7,
     "metadata": {},
     "output_type": "execute_result"
    }
   ],
   "source": [
    "len(papers)"
   ]
  },
  {
   "cell_type": "code",
   "execution_count": 8,
   "id": "f831d24a",
   "metadata": {},
   "outputs": [],
   "source": [
    "first = papers[0]"
   ]
  },
  {
   "cell_type": "code",
   "execution_count": 9,
   "id": "d376375d",
   "metadata": {},
   "outputs": [
    {
     "data": {
      "text/plain": [
       "1"
      ]
     },
     "execution_count": 9,
     "metadata": {},
     "output_type": "execute_result"
    }
   ],
   "source": [
    "idx_e = first.find_element(\n",
    "    By.CSS_SELECTOR, 'td[title=\"##\"] > font.headingtext'\n",
    ")\n",
    "idx = int(idx_e.get_attribute('innerHTML'))\n",
    "idx"
   ]
  },
  {
   "cell_type": "code",
   "execution_count": 11,
   "id": "a7476f7c",
   "metadata": {},
   "outputs": [],
   "source": [
    "summary = first.find_element(\n",
    "    By.CSS_SELECTOR, 'td[title=\"Summary\"]'\n",
    ")"
   ]
  },
  {
   "cell_type": "code",
   "execution_count": 12,
   "id": "f6db8f2e",
   "metadata": {},
   "outputs": [],
   "source": [
    "paper_link_e = summary.find_element(\n",
    "    By.CSS_SELECTOR, \"a.search_headingtext\"\n",
    ")\n",
    "paper_link = paper_link_e.get_attribute('href')\n",
    "driver.execute_script(\"window.open('');\")\n",
    "driver.switch_to.window(driver.window_handles[1])\n",
    "driver.get(paper_link)"
   ]
  },
  {
   "cell_type": "code",
   "execution_count": 13,
   "id": "de616524",
   "metadata": {},
   "outputs": [],
   "source": [
    "authors = driver.find_elements(\n",
    "    By.CSS_SELECTOR, 'a.search_fieldtext_name'\n",
    ")"
   ]
  },
  {
   "cell_type": "code",
   "execution_count": 14,
   "id": "af231ed2",
   "metadata": {},
   "outputs": [
    {
     "data": {
      "text/html": [
       "<div>\n",
       "<style scoped>\n",
       "    .dataframe tbody tr th:only-of-type {\n",
       "        vertical-align: middle;\n",
       "    }\n",
       "\n",
       "    .dataframe tbody tr th {\n",
       "        vertical-align: top;\n",
       "    }\n",
       "\n",
       "    .dataframe thead th {\n",
       "        text-align: right;\n",
       "    }\n",
       "</style>\n",
       "<table border=\"1\" class=\"dataframe\">\n",
       "  <thead>\n",
       "    <tr style=\"text-align: right;\">\n",
       "      <th></th>\n",
       "      <th>number_of_authors</th>\n",
       "      <th>author_position</th>\n",
       "      <th>author_name</th>\n",
       "      <th>author_affiliation</th>\n",
       "    </tr>\n",
       "  </thead>\n",
       "  <tbody>\n",
       "    <tr>\n",
       "      <th>0</th>\n",
       "      <td>1</td>\n",
       "      <td>0</td>\n",
       "      <td>William J. White</td>\n",
       "      <td>Penn State Altoona</td>\n",
       "    </tr>\n",
       "  </tbody>\n",
       "</table>\n",
       "</div>"
      ],
      "text/plain": [
       "   number_of_authors  author_position        author_name  author_affiliation\n",
       "0                  1                0  William J. White   Penn State Altoona"
      ]
     },
     "execution_count": 14,
     "metadata": {},
     "output_type": "execute_result"
    }
   ],
   "source": [
    "\n",
    "\n",
    "author_tuples = []\n",
    "for author in authors:\n",
    "    author_number = len(authors)\n",
    "    author_position = authors.index(author)\n",
    "    author_element = author.get_attribute('innerHTML')\n",
    "    first_parenthesis_idx = author_element.find(\"(\")\n",
    "    last_parenthesis_idx = author_element.find(\")\")\n",
    "    author_name = author_element[0:first_parenthesis_idx]\n",
    "    author_affiliation = author_element[first_parenthesis_idx+1:last_parenthesis_idx]\n",
    "    author_tuples.append((author_number, author_position, author_name, author_affiliation))\n",
    "pd.DataFrame(list(author_tuples), \n",
    "             columns=['number_of_authors', 'author_position', 'author_name', 'author_affiliation'])\n",
    "\n"
   ]
  },
  {
   "cell_type": "code",
   "execution_count": 15,
   "id": "940ffba0",
   "metadata": {},
   "outputs": [],
   "source": [
    "paper_e = authors[0].find_element(\n",
    "    By.XPATH, \".//ancestor::table\"\n",
    ")"
   ]
  },
  {
   "cell_type": "code",
   "execution_count": 16,
   "id": "bae752eb",
   "metadata": {},
   "outputs": [
    {
     "data": {
      "text/plain": [
       "'A Bibliometric Analysis of Disciplinary Self-Reflection in Communication Studies'"
      ]
     },
     "execution_count": 16,
     "metadata": {},
     "output_type": "execute_result"
    }
   ],
   "source": [
    "paper_title = paper_e.find_element(\n",
    "    By.CSS_SELECTOR, \"font.headingtext\"\n",
    ").get_attribute('innerHTML')\n",
    "paper_title"
   ]
  },
  {
   "cell_type": "code",
   "execution_count": 17,
   "id": "1aa50435",
   "metadata": {},
   "outputs": [
    {
     "data": {
      "text/plain": [
       "\"This paper reports the results of a bibliometric analysis of the patterns of co-citation among the authors most cited by the 121 articles that also refer to a special symposium issue of Journal of Communication (JoC), published in 1983, called 'Ferment in the Field.'  This symposium, in attempting to make sense of the potential implications of 'critical theory' for communication studies as a field at that time, is argued to constitute a moment of 'disciplinary self-reflection' whose subsequent employment within the communication studies literature indicates the reflexive concerns of the discipline.  The analysis conducted here suggests that disciplinary self-reflection in communication studies includes both epistemological-ideological and structural-functional critiques of the discipline.  This analysis underscores the tensions between two views of what communication 'in the public interest' entails:  on the one hand, a gimlet-eyed appraisal of the vagaries of media power; on the other, a pragmatic and useful program that contributes to policymaking and interdisciplinary inquiry.\""
      ]
     },
     "execution_count": 17,
     "metadata": {},
     "output_type": "execute_result"
    }
   ],
   "source": [
    "abstract = paper_e.find_element(\n",
    "    By.CSS_SELECTOR, \"tr[bgcolor='#FFFFFF'] blockquote.tight > font.fieldtext\"\n",
    ").get_attribute('innerHTML')\n",
    "abstract\n"
   ]
  },
  {
   "cell_type": "code",
   "execution_count": 18,
   "id": "45782751",
   "metadata": {},
   "outputs": [],
   "source": [
    "driver.close()\n",
    "driver.switch_to.window(driver.window_handles[0])"
   ]
  },
  {
   "cell_type": "code",
   "execution_count": 19,
   "id": "a81e942c",
   "metadata": {},
   "outputs": [
    {
     "data": {
      "text/plain": [
       "14"
      ]
     },
     "execution_count": 19,
     "metadata": {},
     "output_type": "execute_result"
    }
   ],
   "source": [
    "iterators = wait.until(EC.presence_of_all_elements_located((\n",
    "    By.CSS_SELECTOR, \"div.iterator:nth-child(1) a.fieldtext\"\n",
    ")))\n",
    "len(iterators)"
   ]
  },
  {
   "cell_type": "code",
   "execution_count": 21,
   "id": "c0245616",
   "metadata": {},
   "outputs": [
    {
     "ename": "StaleElementReferenceException",
     "evalue": "Message: The element reference of <a class=\"fieldtext\" href=\"https://convention2.allacademic.com/one/ica/ica04/index.php?click_key=23&limit=50&cmd=Multi+Search+Search+Individual+Submissions&iterate=true&offset=1000&search=true&PHPSESSID=fisocvr0svqslmijmpi3j4of5j\"> is stale; either the element is no longer attached to the DOM, it is not in the current frame context, or the document has been refreshed\nStacktrace:\nWebDriverError@chrome://remote/content/shared/webdriver/Errors.jsm:183:5\nStaleElementReferenceError@chrome://remote/content/shared/webdriver/Errors.jsm:464:5\nelement.resolveElement@chrome://remote/content/marionette/element.js:681:11\nevaluate.fromJSON@chrome://remote/content/marionette/evaluate.js:254:26\nevaluate.fromJSON/<@chrome://remote/content/marionette/evaluate.js:245:38\nevaluate.fromJSON@chrome://remote/content/marionette/evaluate.js:245:20\nevaluate.fromJSON@chrome://remote/content/marionette/evaluate.js:262:29\nreceiveMessage@chrome://remote/content/marionette/actors/MarionetteCommandsChild.jsm:79:29\n",
     "output_type": "error",
     "traceback": [
      "\u001b[0;31m---------------------------------------------------------------------------\u001b[0m",
      "\u001b[0;31mStaleElementReferenceException\u001b[0m            Traceback (most recent call last)",
      "Input \u001b[0;32mIn [21]\u001b[0m, in \u001b[0;36m<cell line: 1>\u001b[0;34m()\u001b[0m\n\u001b[0;32m----> 1\u001b[0m \u001b[38;5;28;01mwhile\u001b[39;00m \u001b[43miterators\u001b[49m\u001b[43m[\u001b[49m\u001b[38;5;241;43m-\u001b[39;49m\u001b[38;5;241;43m1\u001b[39;49m\u001b[43m]\u001b[49m\u001b[38;5;241;43m.\u001b[39;49m\u001b[43mget_attribute\u001b[49m\u001b[43m(\u001b[49m\u001b[38;5;124;43m'\u001b[39;49m\u001b[38;5;124;43minnerHTML\u001b[39;49m\u001b[38;5;124;43m'\u001b[39;49m\u001b[43m)\u001b[49m \u001b[38;5;241m==\u001b[39m \u001b[38;5;124m'\u001b[39m\u001b[38;5;124mNext\u001b[39m\u001b[38;5;124m'\u001b[39m:\n\u001b[1;32m      2\u001b[0m     iterators[\u001b[38;5;241m-\u001b[39m\u001b[38;5;241m1\u001b[39m]\u001b[38;5;241m.\u001b[39mclick()\n\u001b[1;32m      3\u001b[0m     iterators \u001b[38;5;241m=\u001b[39m wait\u001b[38;5;241m.\u001b[39muntil(EC\u001b[38;5;241m.\u001b[39mpresence_of_all_elements_located((\n\u001b[1;32m      4\u001b[0m         By\u001b[38;5;241m.\u001b[39mCSS_SELECTOR, \u001b[38;5;124m\"\u001b[39m\u001b[38;5;124mdiv.iterator:nth-child(1) a.fieldtext\u001b[39m\u001b[38;5;124m\"\u001b[39m\n\u001b[1;32m      5\u001b[0m     )))\n",
      "File \u001b[0;32m/opt/anaconda3/envs/comm/lib/python3.8/site-packages/selenium/webdriver/remote/webelement.py:155\u001b[0m, in \u001b[0;36mWebElement.get_attribute\u001b[0;34m(self, name)\u001b[0m\n\u001b[1;32m    128\u001b[0m \u001b[38;5;28;01mdef\u001b[39;00m \u001b[38;5;21mget_attribute\u001b[39m(\u001b[38;5;28mself\u001b[39m, name) \u001b[38;5;241m-\u001b[39m\u001b[38;5;241m>\u001b[39m \u001b[38;5;28mstr\u001b[39m:\n\u001b[1;32m    129\u001b[0m     \u001b[38;5;124;03m\"\"\"Gets the given attribute or property of the element.\u001b[39;00m\n\u001b[1;32m    130\u001b[0m \n\u001b[1;32m    131\u001b[0m \u001b[38;5;124;03m    This method will first try to return the value of a property with the\u001b[39;00m\n\u001b[0;32m   (...)\u001b[0m\n\u001b[1;32m    152\u001b[0m \n\u001b[1;32m    153\u001b[0m \u001b[38;5;124;03m    \"\"\"\u001b[39;00m\n\u001b[0;32m--> 155\u001b[0m     attribute_value \u001b[38;5;241m=\u001b[39m \u001b[38;5;28;43mself\u001b[39;49m\u001b[38;5;241;43m.\u001b[39;49m\u001b[43mparent\u001b[49m\u001b[38;5;241;43m.\u001b[39;49m\u001b[43mexecute_script\u001b[49m\u001b[43m(\u001b[49m\n\u001b[1;32m    156\u001b[0m \u001b[43m        \u001b[49m\u001b[38;5;124;43m\"\u001b[39;49m\u001b[38;5;124;43mreturn (\u001b[39;49m\u001b[38;5;132;43;01m%s\u001b[39;49;00m\u001b[38;5;124;43m).apply(null, arguments);\u001b[39;49m\u001b[38;5;124;43m\"\u001b[39;49m\u001b[43m \u001b[49m\u001b[38;5;241;43m%\u001b[39;49m\u001b[43m \u001b[49m\u001b[43mgetAttribute_js\u001b[49m\u001b[43m,\u001b[49m\n\u001b[1;32m    157\u001b[0m \u001b[43m        \u001b[49m\u001b[38;5;28;43mself\u001b[39;49m\u001b[43m,\u001b[49m\u001b[43m \u001b[49m\u001b[43mname\u001b[49m\u001b[43m)\u001b[49m\n\u001b[1;32m    158\u001b[0m     \u001b[38;5;28;01mreturn\u001b[39;00m attribute_value\n",
      "File \u001b[0;32m/opt/anaconda3/envs/comm/lib/python3.8/site-packages/selenium/webdriver/remote/webdriver.py:878\u001b[0m, in \u001b[0;36mWebDriver.execute_script\u001b[0;34m(self, script, *args)\u001b[0m\n\u001b[1;32m    875\u001b[0m converted_args \u001b[38;5;241m=\u001b[39m \u001b[38;5;28mlist\u001b[39m(args)\n\u001b[1;32m    876\u001b[0m command \u001b[38;5;241m=\u001b[39m Command\u001b[38;5;241m.\u001b[39mW3C_EXECUTE_SCRIPT\n\u001b[0;32m--> 878\u001b[0m \u001b[38;5;28;01mreturn\u001b[39;00m \u001b[38;5;28;43mself\u001b[39;49m\u001b[38;5;241;43m.\u001b[39;49m\u001b[43mexecute\u001b[49m\u001b[43m(\u001b[49m\u001b[43mcommand\u001b[49m\u001b[43m,\u001b[49m\u001b[43m \u001b[49m\u001b[43m{\u001b[49m\n\u001b[1;32m    879\u001b[0m \u001b[43m    \u001b[49m\u001b[38;5;124;43m'\u001b[39;49m\u001b[38;5;124;43mscript\u001b[39;49m\u001b[38;5;124;43m'\u001b[39;49m\u001b[43m:\u001b[49m\u001b[43m \u001b[49m\u001b[43mscript\u001b[49m\u001b[43m,\u001b[49m\n\u001b[1;32m    880\u001b[0m \u001b[43m    \u001b[49m\u001b[38;5;124;43m'\u001b[39;49m\u001b[38;5;124;43margs\u001b[39;49m\u001b[38;5;124;43m'\u001b[39;49m\u001b[43m:\u001b[49m\u001b[43m \u001b[49m\u001b[43mconverted_args\u001b[49m\u001b[43m}\u001b[49m\u001b[43m)\u001b[49m[\u001b[38;5;124m'\u001b[39m\u001b[38;5;124mvalue\u001b[39m\u001b[38;5;124m'\u001b[39m]\n",
      "File \u001b[0;32m/opt/anaconda3/envs/comm/lib/python3.8/site-packages/selenium/webdriver/remote/webdriver.py:424\u001b[0m, in \u001b[0;36mWebDriver.execute\u001b[0;34m(self, driver_command, params)\u001b[0m\n\u001b[1;32m    422\u001b[0m response \u001b[38;5;241m=\u001b[39m \u001b[38;5;28mself\u001b[39m\u001b[38;5;241m.\u001b[39mcommand_executor\u001b[38;5;241m.\u001b[39mexecute(driver_command, params)\n\u001b[1;32m    423\u001b[0m \u001b[38;5;28;01mif\u001b[39;00m response:\n\u001b[0;32m--> 424\u001b[0m     \u001b[38;5;28;43mself\u001b[39;49m\u001b[38;5;241;43m.\u001b[39;49m\u001b[43merror_handler\u001b[49m\u001b[38;5;241;43m.\u001b[39;49m\u001b[43mcheck_response\u001b[49m\u001b[43m(\u001b[49m\u001b[43mresponse\u001b[49m\u001b[43m)\u001b[49m\n\u001b[1;32m    425\u001b[0m     response[\u001b[38;5;124m'\u001b[39m\u001b[38;5;124mvalue\u001b[39m\u001b[38;5;124m'\u001b[39m] \u001b[38;5;241m=\u001b[39m \u001b[38;5;28mself\u001b[39m\u001b[38;5;241m.\u001b[39m_unwrap_value(\n\u001b[1;32m    426\u001b[0m         response\u001b[38;5;241m.\u001b[39mget(\u001b[38;5;124m'\u001b[39m\u001b[38;5;124mvalue\u001b[39m\u001b[38;5;124m'\u001b[39m, \u001b[38;5;28;01mNone\u001b[39;00m))\n\u001b[1;32m    427\u001b[0m     \u001b[38;5;28;01mreturn\u001b[39;00m response\n",
      "File \u001b[0;32m/opt/anaconda3/envs/comm/lib/python3.8/site-packages/selenium/webdriver/remote/errorhandler.py:247\u001b[0m, in \u001b[0;36mErrorHandler.check_response\u001b[0;34m(self, response)\u001b[0m\n\u001b[1;32m    245\u001b[0m         alert_text \u001b[38;5;241m=\u001b[39m value[\u001b[38;5;124m'\u001b[39m\u001b[38;5;124malert\u001b[39m\u001b[38;5;124m'\u001b[39m]\u001b[38;5;241m.\u001b[39mget(\u001b[38;5;124m'\u001b[39m\u001b[38;5;124mtext\u001b[39m\u001b[38;5;124m'\u001b[39m)\n\u001b[1;32m    246\u001b[0m     \u001b[38;5;28;01mraise\u001b[39;00m exception_class(message, screen, stacktrace, alert_text)  \u001b[38;5;66;03m# type: ignore[call-arg]  # mypy is not smart enough here\u001b[39;00m\n\u001b[0;32m--> 247\u001b[0m \u001b[38;5;28;01mraise\u001b[39;00m exception_class(message, screen, stacktrace)\n",
      "\u001b[0;31mStaleElementReferenceException\u001b[0m: Message: The element reference of <a class=\"fieldtext\" href=\"https://convention2.allacademic.com/one/ica/ica04/index.php?click_key=23&limit=50&cmd=Multi+Search+Search+Individual+Submissions&iterate=true&offset=1000&search=true&PHPSESSID=fisocvr0svqslmijmpi3j4of5j\"> is stale; either the element is no longer attached to the DOM, it is not in the current frame context, or the document has been refreshed\nStacktrace:\nWebDriverError@chrome://remote/content/shared/webdriver/Errors.jsm:183:5\nStaleElementReferenceError@chrome://remote/content/shared/webdriver/Errors.jsm:464:5\nelement.resolveElement@chrome://remote/content/marionette/element.js:681:11\nevaluate.fromJSON@chrome://remote/content/marionette/evaluate.js:254:26\nevaluate.fromJSON/<@chrome://remote/content/marionette/evaluate.js:245:38\nevaluate.fromJSON@chrome://remote/content/marionette/evaluate.js:245:20\nevaluate.fromJSON@chrome://remote/content/marionette/evaluate.js:262:29\nreceiveMessage@chrome://remote/content/marionette/actors/MarionetteCommandsChild.jsm:79:29\n"
     ]
    }
   ],
   "source": [
    "while iterators[-1].get_attribute('innerHTML') == 'Next':\n",
    "    iterators[-1].click()\n",
    "    iterators = wait.until(EC.presence_of_all_elements_located((\n",
    "        By.CSS_SELECTOR, \"div.iterator:nth-child(1) a.fieldtext\"\n",
    "    )))"
   ]
  },
  {
   "cell_type": "code",
   "execution_count": null,
   "id": "23a734b6",
   "metadata": {},
   "outputs": [],
   "source": []
  }
 ],
 "metadata": {
  "kernelspec": {
   "display_name": "Python 3 (ipykernel)",
   "language": "python",
   "name": "python3"
  },
  "language_info": {
   "codemirror_mode": {
    "name": "ipython",
    "version": 3
   },
   "file_extension": ".py",
   "mimetype": "text/x-python",
   "name": "python",
   "nbconvert_exporter": "python",
   "pygments_lexer": "ipython3",
   "version": "3.8.13"
  }
 },
 "nbformat": 4,
 "nbformat_minor": 5
}
