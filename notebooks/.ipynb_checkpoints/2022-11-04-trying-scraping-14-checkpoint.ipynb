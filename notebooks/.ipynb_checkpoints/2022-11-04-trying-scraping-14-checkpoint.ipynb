{
 "cells": [
  {
   "cell_type": "code",
   "execution_count": 1,
   "id": "24ea4fcd",
   "metadata": {},
   "outputs": [],
   "source": [
    "import pandas as pd\n",
    "import numpy as np\n",
    "import time \n",
    "import math\n",
    "import re\n",
    "from selenium import webdriver\n",
    "from selenium.webdriver.common.by import By\n",
    "from selenium.webdriver.support.ui import WebDriverWait\n",
    "from selenium.webdriver.support import expected_conditions as EC \n",
    "from selenium.common.exceptions import TimeoutException\n",
    "from selenium.webdriver.support.ui import Select"
   ]
  },
  {
   "cell_type": "code",
   "execution_count": 49,
   "id": "bcbf274f",
   "metadata": {},
   "outputs": [],
   "source": [
    "driver = webdriver.Firefox()\n",
    "wait = WebDriverWait(driver, 10)"
   ]
  },
  {
   "cell_type": "code",
   "execution_count": 50,
   "id": "5a3a04ff",
   "metadata": {},
   "outputs": [],
   "source": [
    "driver.get('https://convention2.allacademic.com/one/ica/ica15/')"
   ]
  },
  {
   "cell_type": "code",
   "execution_count": 51,
   "id": "e59979cc",
   "metadata": {},
   "outputs": [],
   "source": [
    "browse_by_session_type = driver.find_elements(\n",
    "    By.CSS_SELECTOR, \"li.ui-li-has-icon.ui-last-child > a\"\n",
    ")[3]"
   ]
  },
  {
   "cell_type": "code",
   "execution_count": 52,
   "id": "c2df26fb",
   "metadata": {},
   "outputs": [],
   "source": [
    "browse_by_session_type.click()"
   ]
  },
  {
   "cell_type": "code",
   "execution_count": 53,
   "id": "f9ba5207",
   "metadata": {},
   "outputs": [],
   "source": [
    "paper_session = driver.find_element(\n",
    "    By.XPATH, '//li[@class=\"ui-li-has-count\"][3] //a[@class=\"ui-btn\"]'\n",
    ")"
   ]
  },
  {
   "cell_type": "code",
   "execution_count": 54,
   "id": "49b77fed",
   "metadata": {},
   "outputs": [],
   "source": [
    "paper_session.click()"
   ]
  },
  {
   "cell_type": "code",
   "execution_count": 59,
   "id": "fd835d79",
   "metadata": {},
   "outputs": [],
   "source": [
    "sessions = driver.find_elements(\n",
    "    By.CSS_SELECTOR, 'li.ui-li-has-alt'\n",
    ")"
   ]
  },
  {
   "cell_type": "code",
   "execution_count": 60,
   "id": "0df72403",
   "metadata": {},
   "outputs": [
    {
     "data": {
      "text/plain": [
       "292"
      ]
     },
     "execution_count": 60,
     "metadata": {},
     "output_type": "execute_result"
    }
   ],
   "source": [
    "len(sessions)"
   ]
  },
  {
   "cell_type": "markdown",
   "id": "828680ac",
   "metadata": {},
   "source": [
    "## Session example"
   ]
  },
  {
   "cell_type": "code",
   "execution_count": 61,
   "id": "69f58784",
   "metadata": {},
   "outputs": [],
   "source": [
    "first = sessions[99]"
   ]
  },
  {
   "cell_type": "code",
   "execution_count": 62,
   "id": "edb7460f",
   "metadata": {},
   "outputs": [],
   "source": [
    "first.click()"
   ]
  },
  {
   "cell_type": "code",
   "execution_count": 37,
   "id": "6003f1a5",
   "metadata": {},
   "outputs": [
    {
     "data": {
      "text/plain": [
       "'The Visual in Politics: Rhetorics, Frames, Effects'"
      ]
     },
     "execution_count": 37,
     "metadata": {},
     "output_type": "execute_result"
    }
   ],
   "source": [
    "session_title_e = driver.find_element(\n",
    "    By.CSS_SELECTOR, 'h3'\n",
    ")\n",
    "session_title = session_title_e.text\n",
    "session_title"
   ]
  },
  {
   "cell_type": "code",
   "execution_count": 38,
   "id": "c92e3f33",
   "metadata": {},
   "outputs": [
    {
     "data": {
      "text/plain": [
       "True"
      ]
     },
     "execution_count": 38,
     "metadata": {},
     "output_type": "execute_result"
    }
   ],
   "source": [
    "'Preconference' not in session_title"
   ]
  },
  {
   "cell_type": "code",
   "execution_count": 42,
   "id": "6c4c546e",
   "metadata": {},
   "outputs": [],
   "source": [
    "h4s = driver.find_elements(\n",
    "    By.CSS_SELECTOR, 'h4'\n",
    ")"
   ]
  },
  {
   "cell_type": "code",
   "execution_count": 44,
   "id": "6982674b",
   "metadata": {},
   "outputs": [
    {
     "name": "stdout",
     "output_type": "stream",
     "text": [
      "Sub Unit\n",
      "Cosponsor\n",
      "Chair\n",
      "Individual Presentations\n"
     ]
    }
   ],
   "source": [
    "for h4 in h4s:\n",
    "    print(h4.text)"
   ]
  },
  {
   "cell_type": "code",
   "execution_count": 45,
   "id": "3c1cbc67",
   "metadata": {},
   "outputs": [],
   "source": [
    "h4s_texts = [i.text for i in h4s]\n",
    "sub_unit_e_idx = h4s_texts.index('Sub Unit')\n",
    "chair_e_idx = h4s_texts.index('Chair')"
   ]
  },
  {
   "cell_type": "code",
   "execution_count": 47,
   "id": "61207c68",
   "metadata": {},
   "outputs": [
    {
     "data": {
      "text/plain": [
       "(0, 2)"
      ]
     },
     "execution_count": 47,
     "metadata": {},
     "output_type": "execute_result"
    }
   ],
   "source": [
    "sub_unit_e_idx, chair_e_idx"
   ]
  },
  {
   "cell_type": "code",
   "execution_count": 48,
   "id": "e82ba7a8",
   "metadata": {},
   "outputs": [
    {
     "data": {
      "text/plain": [
       "3"
      ]
     },
     "execution_count": 48,
     "metadata": {},
     "output_type": "execute_result"
    }
   ],
   "source": [
    "h4s_texts.index('Individual Presentations')"
   ]
  },
  {
   "cell_type": "code",
   "execution_count": 13,
   "id": "b28fa7cd",
   "metadata": {},
   "outputs": [],
   "source": [
    "sub_unit_e = driver.find_elements(\n",
    "    By.CSS_SELECTOR, 'ul.ui-listview.ui-listview-inset.ui-corner-all.ui-shadow'\n",
    ")[4]"
   ]
  },
  {
   "cell_type": "code",
   "execution_count": 14,
   "id": "8fbcf09e",
   "metadata": {},
   "outputs": [
    {
     "data": {
      "text/plain": [
       "'Sponsored Sessions'"
      ]
     },
     "execution_count": 14,
     "metadata": {},
     "output_type": "execute_result"
    }
   ],
   "source": [
    "sub_unit = sub_unit_e.text\n",
    "sub_unit"
   ]
  },
  {
   "cell_type": "code",
   "execution_count": 15,
   "id": "611bb3ef",
   "metadata": {},
   "outputs": [
    {
     "ename": "IndexError",
     "evalue": "list index out of range",
     "output_type": "error",
     "traceback": [
      "\u001b[0;31m---------------------------------------------------------------------------\u001b[0m",
      "\u001b[0;31mIndexError\u001b[0m                                Traceback (most recent call last)",
      "Input \u001b[0;32mIn [15]\u001b[0m, in \u001b[0;36m<cell line: 1>\u001b[0;34m()\u001b[0m\n\u001b[0;32m----> 1\u001b[0m chair_e \u001b[38;5;241m=\u001b[39m \u001b[43mdriver\u001b[49m\u001b[38;5;241;43m.\u001b[39;49m\u001b[43mfind_elements\u001b[49m\u001b[43m(\u001b[49m\n\u001b[1;32m      2\u001b[0m \u001b[43m    \u001b[49m\u001b[43mBy\u001b[49m\u001b[38;5;241;43m.\u001b[39;49m\u001b[43mCSS_SELECTOR\u001b[49m\u001b[43m,\u001b[49m\u001b[43m \u001b[49m\u001b[38;5;124;43m'\u001b[39;49m\u001b[38;5;124;43mul.ui-listview.ui-listview-inset.ui-corner-all.ui-shadow\u001b[39;49m\u001b[38;5;124;43m'\u001b[39;49m\n\u001b[1;32m      3\u001b[0m \u001b[43m)\u001b[49m\u001b[43m[\u001b[49m\u001b[38;5;241;43m5\u001b[39;49m\u001b[43m]\u001b[49m\n\u001b[1;32m      4\u001b[0m chair_info \u001b[38;5;241m=\u001b[39m chair_e\u001b[38;5;241m.\u001b[39mtext\n\u001b[1;32m      5\u001b[0m chair_name \u001b[38;5;241m=\u001b[39m chair_info\u001b[38;5;241m.\u001b[39msplit(\u001b[38;5;124m'\u001b[39m\u001b[38;5;124m, \u001b[39m\u001b[38;5;124m'\u001b[39m)[\u001b[38;5;241m0\u001b[39m]\n",
      "\u001b[0;31mIndexError\u001b[0m: list index out of range"
     ]
    }
   ],
   "source": [
    "chair_e = driver.find_elements(\n",
    "    By.CSS_SELECTOR, 'ul.ui-listview.ui-listview-inset.ui-corner-all.ui-shadow'\n",
    ")[5]\n",
    "chair_info = chair_e.text\n",
    "chair_name = chair_info.split(', ')[0]\n",
    "chair_aff = chair_info.split(', ')[1]\n",
    "chair_name, chair_aff"
   ]
  },
  {
   "cell_type": "markdown",
   "id": "45d21f2b",
   "metadata": {},
   "source": [
    "## Paper example"
   ]
  },
  {
   "cell_type": "code",
   "execution_count": 16,
   "id": "eb52e5bf",
   "metadata": {},
   "outputs": [],
   "source": [
    "# I do not know why but the first two selections are not paper elements. I need to remove them. \n",
    "papers = driver.find_elements(\n",
    "    By.CSS_SELECTOR, 'ul.ui-listview.ui-listview-inset.ui-corner-all.ui-shadow:last-child  a.ui-icon-carat-r'\n",
    ")[2:]"
   ]
  },
  {
   "cell_type": "code",
   "execution_count": 17,
   "id": "8f113b3b",
   "metadata": {},
   "outputs": [
    {
     "data": {
      "text/plain": [
       "1"
      ]
     },
     "execution_count": 17,
     "metadata": {},
     "output_type": "execute_result"
    }
   ],
   "source": [
    "len(papers)"
   ]
  },
  {
   "cell_type": "code",
   "execution_count": 21,
   "id": "7674260f",
   "metadata": {},
   "outputs": [],
   "source": [
    "papers[0].click()"
   ]
  },
  {
   "cell_type": "code",
   "execution_count": 66,
   "id": "dbc7135c",
   "metadata": {},
   "outputs": [],
   "source": [
    "paper_title_e = driver.find_element(\n",
    "    By.CSS_SELECTOR, 'h3'\n",
    ")"
   ]
  },
  {
   "cell_type": "code",
   "execution_count": 67,
   "id": "62ba91c0",
   "metadata": {},
   "outputs": [
    {
     "data": {
      "text/plain": [
       "'Exploring Japanese Media’s Health Coverage in Response to the 2011 Triple Catastrophe'"
      ]
     },
     "execution_count": 67,
     "metadata": {},
     "output_type": "execute_result"
    }
   ],
   "source": [
    "paper_title = paper_title_e.text"
   ]
  },
  {
   "cell_type": "code",
   "execution_count": 52,
   "id": "3602b736",
   "metadata": {},
   "outputs": [],
   "source": [
    "abstract = driver.find_element(\n",
    "    By.CSS_SELECTOR, 'blockquote > p'\n",
    ")"
   ]
  },
  {
   "cell_type": "code",
   "execution_count": 54,
   "id": "1e4bcede",
   "metadata": {},
   "outputs": [
    {
     "data": {
      "text/plain": [
       "'Media system dependency theory suggests that in times of threat and ambiguity, for example, during Japan’s 2011 triple catastrophe, individuals’ dependency on media for information is intensified. Individuals depend on the media for information to gauge health risk and learn protective measures. Dependency relations between the media system and other entities, however, can influence how effectively the media fulfill this important function. This study used a quantitative content analysis of one year of coverage for two Japanese newspapers, the Asahi Shinbun and the Yomiuri Shinbun, to determine the extent to which the news media provided necessary public health information. Results suggest that media system dependency relations may have reduced the amount and type of public health information included in the disaster coverage. Implications of these findings for public health communication are discussed.'"
      ]
     },
     "execution_count": 54,
     "metadata": {},
     "output_type": "execute_result"
    }
   ],
   "source": [
    "abstract.text"
   ]
  },
  {
   "cell_type": "code",
   "execution_count": 55,
   "id": "142ab478",
   "metadata": {},
   "outputs": [],
   "source": [
    "authors = driver.find_elements(\n",
    "    By.CSS_SELECTOR, 'ul.ui-listview.ui-listview-inset.ui-corner-all.ui-shadow:last-child  a.ui-icon-carat-r'\n",
    ")[2:]"
   ]
  },
  {
   "cell_type": "code",
   "execution_count": 56,
   "id": "bbf17d2d",
   "metadata": {},
   "outputs": [
    {
     "data": {
      "text/plain": [
       "3"
      ]
     },
     "execution_count": 56,
     "metadata": {},
     "output_type": "execute_result"
    }
   ],
   "source": [
    "len(authors)"
   ]
  },
  {
   "cell_type": "code",
   "execution_count": 59,
   "id": "841aa80e",
   "metadata": {},
   "outputs": [
    {
     "data": {
      "text/plain": [
       "['Holley A. Wilkin', 'Georgia State U']"
      ]
     },
     "execution_count": 59,
     "metadata": {},
     "output_type": "execute_result"
    }
   ],
   "source": [
    "authors[0].text.split(', ')"
   ]
  },
  {
   "cell_type": "code",
   "execution_count": null,
   "id": "7c582128",
   "metadata": {},
   "outputs": [],
   "source": []
  }
 ],
 "metadata": {
  "kernelspec": {
   "display_name": "Python 3 (ipykernel)",
   "language": "python",
   "name": "python3"
  },
  "language_info": {
   "codemirror_mode": {
    "name": "ipython",
    "version": 3
   },
   "file_extension": ".py",
   "mimetype": "text/x-python",
   "name": "python",
   "nbconvert_exporter": "python",
   "pygments_lexer": "ipython3",
   "version": "3.8.13"
  }
 },
 "nbformat": 4,
 "nbformat_minor": 5
}
