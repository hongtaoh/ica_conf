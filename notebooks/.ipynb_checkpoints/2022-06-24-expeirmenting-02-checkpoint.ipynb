{
 "cells": [
  {
   "cell_type": "code",
   "execution_count": 9,
   "id": "366947dc",
   "metadata": {},
   "outputs": [],
   "source": [
    "import pandas as pd\n",
    "import time \n",
    "import re\n",
    "from selenium import webdriver\n",
    "from selenium.webdriver.common.by import By\n",
    "from selenium.webdriver.support.ui import WebDriverWait\n",
    "from selenium.webdriver.support import expected_conditions as EC \n",
    "from selenium.common.exceptions import TimeoutException"
   ]
  },
  {
   "cell_type": "code",
   "execution_count": 10,
   "id": "e4a8d0a7",
   "metadata": {},
   "outputs": [],
   "source": [
    "driver = webdriver.Firefox()\n",
    "wait = WebDriverWait(driver, 10)"
   ]
  },
  {
   "cell_type": "code",
   "execution_count": 11,
   "id": "2961a31f",
   "metadata": {},
   "outputs": [],
   "source": [
    "driver.get('https://convention2.allacademic.com/one/ica/ica04/')"
   ]
  },
  {
   "cell_type": "code",
   "execution_count": 12,
   "id": "1fbac490",
   "metadata": {},
   "outputs": [],
   "source": [
    "search_papers = wait.until(EC.element_to_be_clickable((\n",
    "    By.CSS_SELECTOR, \"div.menu_item__icon_text_window__text > a.mainmenu_text\"\n",
    ")))\n",
    "search_papers.click()"
   ]
  },
  {
   "cell_type": "code",
   "execution_count": 13,
   "id": "84c2b77b",
   "metadata": {},
   "outputs": [],
   "source": [
    "papers = driver.find_elements(\n",
    "    By.CSS_SELECTOR, 'tr.worksheet_window__row__light, tr.worksheet_window__row__dark'\n",
    ")"
   ]
  },
  {
   "cell_type": "code",
   "execution_count": 14,
   "id": "8c8a398d",
   "metadata": {},
   "outputs": [
    {
     "data": {
      "text/plain": [
       "50"
      ]
     },
     "execution_count": 14,
     "metadata": {},
     "output_type": "execute_result"
    }
   ],
   "source": [
    "len(papers)"
   ]
  },
  {
   "cell_type": "code",
   "execution_count": 15,
   "id": "7823c124",
   "metadata": {},
   "outputs": [],
   "source": [
    "def keep_clicking():\n",
    "    papers = driver.find_elements(\n",
    "        By.CSS_SELECTOR, 'tr.worksheet_window__row__light, tr.worksheet_window__row__dark'\n",
    "    )\n",
    "    print(len(papers))\n",
    "    for first in papers:\n",
    "        idx_e = first.find_element(\n",
    "        By.CSS_SELECTOR, 'td[title=\"##\"] > font.headingtext')\n",
    "        idx = int(idx_e.get_attribute('innerHTML'))\n",
    "        print(idx)\n",
    "        summary = first.find_element(\n",
    "            By.CSS_SELECTOR, 'td[title=\"Summary\"]'\n",
    "        )\n",
    "        paper_link_e = summary.find_element(\n",
    "            By.CSS_SELECTOR, \"a.search_headingtext\"\n",
    "        )\n",
    "        paper_link = paper_link_e.get_attribute('href')\n",
    "        driver.execute_script(\"window.open('');\")\n",
    "        driver.switch_to.window(driver.window_handles[1])\n",
    "        driver.get(paper_link)\n",
    "        authors = driver.find_elements(\n",
    "            By.CSS_SELECTOR, 'a.search_fieldtext_name'\n",
    "        )\n",
    "        driver.close()\n",
    "        driver.switch_to.window(driver.window_handles[0])"
   ]
  },
  {
   "cell_type": "code",
   "execution_count": 16,
   "id": "71fda066",
   "metadata": {},
   "outputs": [
    {
     "data": {
      "text/plain": [
       "14"
      ]
     },
     "execution_count": 16,
     "metadata": {},
     "output_type": "execute_result"
    }
   ],
   "source": [
    "iterators = wait.until(EC.presence_of_all_elements_located((\n",
    "    By.CSS_SELECTOR, \"div.iterator:nth-child(1) a.fieldtext\"\n",
    ")))\n",
    "len(iterators)"
   ]
  },
  {
   "cell_type": "code",
   "execution_count": null,
   "id": "dccbb74e",
   "metadata": {},
   "outputs": [
    {
     "name": "stdout",
     "output_type": "stream",
     "text": [
      "50\n",
      "1\n",
      "2\n",
      "3\n",
      "4\n",
      "5\n",
      "6\n",
      "7\n",
      "8\n",
      "9\n",
      "10\n",
      "11\n",
      "12\n",
      "13\n",
      "14\n",
      "15\n",
      "16\n",
      "17\n",
      "18\n",
      "19\n",
      "20\n",
      "21\n",
      "22\n",
      "23\n",
      "24\n",
      "25\n",
      "26\n",
      "27\n",
      "28\n",
      "29\n",
      "30\n",
      "31\n",
      "32\n",
      "33\n",
      "34\n",
      "35\n",
      "36\n",
      "37\n",
      "38\n",
      "39\n",
      "40\n",
      "41\n",
      "42\n",
      "43\n",
      "44\n",
      "45\n",
      "46\n",
      "47\n",
      "48\n",
      "49\n",
      "50\n",
      "50\n",
      "1\n",
      "2\n",
      "3\n",
      "4\n",
      "5\n",
      "6\n",
      "7\n",
      "8\n",
      "9\n",
      "10\n",
      "11\n",
      "12\n",
      "13\n",
      "14\n",
      "15\n",
      "16\n",
      "17\n",
      "18\n",
      "19\n",
      "20\n",
      "21\n",
      "22\n",
      "23\n",
      "24\n",
      "25\n",
      "26\n",
      "27\n",
      "28\n",
      "29\n",
      "30\n",
      "31\n",
      "32\n",
      "33\n",
      "34\n",
      "35\n",
      "36\n",
      "37\n",
      "38\n",
      "39\n",
      "40\n",
      "41\n",
      "42\n",
      "43\n",
      "44\n",
      "45\n",
      "46\n",
      "47\n",
      "48\n",
      "49\n",
      "50\n",
      "50\n",
      "1\n",
      "2\n",
      "3\n",
      "4\n",
      "5\n",
      "6\n",
      "7\n",
      "8\n",
      "9\n",
      "10\n",
      "11\n",
      "12\n",
      "13\n",
      "14\n",
      "15\n"
     ]
    }
   ],
   "source": [
    "while iterators[-1].get_attribute('innerHTML') == 'Next':\n",
    "    keep_clicking()\n",
    "    iterators[-1].click()\n",
    "    iterators = wait.until(EC.presence_of_all_elements_located((\n",
    "        By.CSS_SELECTOR, \"div.iterator:nth-child(1) a.fieldtext\"\n",
    "    )))"
   ]
  },
  {
   "cell_type": "code",
   "execution_count": null,
   "id": "1c8ea7cb",
   "metadata": {},
   "outputs": [],
   "source": []
  }
 ],
 "metadata": {
  "kernelspec": {
   "display_name": "Python 3 (ipykernel)",
   "language": "python",
   "name": "python3"
  },
  "language_info": {
   "codemirror_mode": {
    "name": "ipython",
    "version": 3
   },
   "file_extension": ".py",
   "mimetype": "text/x-python",
   "name": "python",
   "nbconvert_exporter": "python",
   "pygments_lexer": "ipython3",
   "version": "3.8.13"
  }
 },
 "nbformat": 4,
 "nbformat_minor": 5
}
