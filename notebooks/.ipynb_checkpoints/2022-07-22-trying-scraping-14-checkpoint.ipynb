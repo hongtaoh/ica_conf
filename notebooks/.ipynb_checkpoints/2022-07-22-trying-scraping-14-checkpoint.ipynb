{
 "cells": [
  {
   "cell_type": "code",
   "execution_count": 1,
   "id": "24ea4fcd",
   "metadata": {},
   "outputs": [],
   "source": [
    "import pandas as pd\n",
    "import numpy as np\n",
    "import time \n",
    "import math\n",
    "import re\n",
    "from selenium import webdriver\n",
    "from selenium.webdriver.common.by import By\n",
    "from selenium.webdriver.support.ui import WebDriverWait\n",
    "from selenium.webdriver.support import expected_conditions as EC \n",
    "from selenium.common.exceptions import TimeoutException\n",
    "from selenium.webdriver.support.ui import Select"
   ]
  },
  {
   "cell_type": "code",
   "execution_count": 2,
   "id": "bcbf274f",
   "metadata": {},
   "outputs": [],
   "source": [
    "driver = webdriver.Firefox()\n",
    "wait = WebDriverWait(driver, 10)"
   ]
  },
  {
   "cell_type": "code",
   "execution_count": 3,
   "id": "5a3a04ff",
   "metadata": {},
   "outputs": [],
   "source": [
    "driver.get('https://convention2.allacademic.com/one/ica/ica14/')"
   ]
  },
  {
   "cell_type": "code",
   "execution_count": 11,
   "id": "e59979cc",
   "metadata": {},
   "outputs": [],
   "source": [
    "browse_by_session_type = driver.find_element(\n",
    "    By.CSS_SELECTOR, \"li.ui-li-has-icon.ui-last-child > a\"\n",
    ").get_attribute('href')"
   ]
  },
  {
   "cell_type": "code",
   "execution_count": 13,
   "id": "8fad641a",
   "metadata": {},
   "outputs": [],
   "source": [
    "driver.get(browse_by_session_type)"
   ]
  },
  {
   "cell_type": "code",
   "execution_count": 16,
   "id": "f9ba5207",
   "metadata": {},
   "outputs": [],
   "source": [
    "paper_session = driver.find_element(\n",
    "    By.XPATH, '//li[@class=\"ui-li-has-count\"][3] //a[@class=\"ui-btn\"]'\n",
    ").get_attribute('href')"
   ]
  },
  {
   "cell_type": "code",
   "execution_count": 17,
   "id": "49b77fed",
   "metadata": {},
   "outputs": [],
   "source": [
    "driver.get(paper_session)"
   ]
  },
  {
   "cell_type": "code",
   "execution_count": null,
   "id": "fd835d79",
   "metadata": {},
   "outputs": [],
   "source": []
  }
 ],
 "metadata": {
  "kernelspec": {
   "display_name": "Python 3 (ipykernel)",
   "language": "python",
   "name": "python3"
  },
  "language_info": {
   "codemirror_mode": {
    "name": "ipython",
    "version": 3
   },
   "file_extension": ".py",
   "mimetype": "text/x-python",
   "name": "python",
   "nbconvert_exporter": "python",
   "pygments_lexer": "ipython3",
   "version": "3.8.13"
  }
 },
 "nbformat": 4,
 "nbformat_minor": 5
}
