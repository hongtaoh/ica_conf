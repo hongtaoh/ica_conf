{
 "cells": [
  {
   "cell_type": "markdown",
   "id": "1fa33736",
   "metadata": {},
   "source": [
    "## Aim\n",
    "\n",
    "I aim to find the bug in 2014-2018 session codes. I found it and have updated the script. "
   ]
  },
  {
   "cell_type": "code",
   "execution_count": 39,
   "id": "0b990db7",
   "metadata": {},
   "outputs": [],
   "source": [
    "import pandas as pd\n",
    "import numpy as np\n",
    "import time \n",
    "import math\n",
    "import re\n",
    "from selenium import webdriver\n",
    "from selenium.webdriver.common.by import By\n",
    "from selenium.webdriver.support.ui import WebDriverWait\n",
    "from selenium.webdriver.support import expected_conditions as EC \n",
    "from selenium.common.exceptions import TimeoutException\n",
    "from selenium.webdriver.support.ui import Select"
   ]
  },
  {
   "cell_type": "code",
   "execution_count": 2,
   "id": "39b92ca4",
   "metadata": {},
   "outputs": [],
   "source": [
    "driver = webdriver.Firefox()\n",
    "wait = WebDriverWait(driver, 10)"
   ]
  },
  {
   "cell_type": "code",
   "execution_count": 3,
   "id": "3392a79a",
   "metadata": {},
   "outputs": [],
   "source": [
    "driver.get('https://convention2.allacademic.com/one/ica/ica16')"
   ]
  },
  {
   "cell_type": "code",
   "execution_count": 4,
   "id": "bf3d49ec",
   "metadata": {},
   "outputs": [],
   "source": [
    "def click_browse_by_session_type():\n",
    "    '''click on \"browse by session type\"\n",
    "    '''\n",
    "    browse_by_session_type = driver.find_elements(\n",
    "        By.CSS_SELECTOR, \"li.ui-li-has-icon.ui-last-child > a\"\n",
    "    )[3]\n",
    "    browse_by_session_type.click()\n",
    "\n",
    "def click_paper_session():\n",
    "    '''click \"paper session\" button\n",
    "    '''\n",
    "    paper_session = driver.find_element(\n",
    "        By.XPATH, '//li[@class=\"ui-li-has-count\"][3] //a[@class=\"ui-btn\"]'\n",
    "    )\n",
    "    paper_session.click()\n",
    "\n",
    "def get_sessions():\n",
    "    '''These are session links\n",
    "    '''\n",
    "    sessions = driver.find_elements(\n",
    "        By.CSS_SELECTOR, 'a.ul-li-has-alt-left.ui-btn'\n",
    "    )\n",
    "    return sessions"
   ]
  },
  {
   "cell_type": "code",
   "execution_count": 5,
   "id": "986077a3",
   "metadata": {},
   "outputs": [],
   "source": [
    "click_browse_by_session_type()\n",
    "click_paper_session()\n",
    "sessions = get_sessions()"
   ]
  },
  {
   "cell_type": "code",
   "execution_count": 6,
   "id": "66a22fb9",
   "metadata": {},
   "outputs": [
    {
     "data": {
      "text/plain": [
       "343"
      ]
     },
     "execution_count": 6,
     "metadata": {},
     "output_type": "execute_result"
    }
   ],
   "source": [
    "len(sessions)"
   ]
  },
  {
   "cell_type": "code",
   "execution_count": 15,
   "id": "21392116",
   "metadata": {},
   "outputs": [
    {
     "name": "stdout",
     "output_type": "stream",
     "text": [
      "200\n"
     ]
    }
   ],
   "source": [
    "s_texts = [i.text for i in sessions]\n",
    "for s in s_texts:\n",
    "    if 'Sex, Sexting, Sexuality' in s:\n",
    "        print(s_texts.index(s))"
   ]
  },
  {
   "cell_type": "code",
   "execution_count": 16,
   "id": "fcde044b",
   "metadata": {},
   "outputs": [],
   "source": [
    "s = sessions[200]"
   ]
  },
  {
   "cell_type": "code",
   "execution_count": 17,
   "id": "922b322e",
   "metadata": {},
   "outputs": [],
   "source": [
    "s_link = s.get_attribute('href')"
   ]
  },
  {
   "cell_type": "code",
   "execution_count": 18,
   "id": "224a845f",
   "metadata": {},
   "outputs": [],
   "source": [
    "# open a new window\n",
    "driver.execute_script(\"window.open('');\")\n",
    "# switch to the new window\n",
    "driver.switch_to.window(driver.window_handles[1])\n",
    "# open the session\n",
    "driver.get(s_link)"
   ]
  },
  {
   "cell_type": "code",
   "execution_count": 19,
   "id": "7a65c932",
   "metadata": {},
   "outputs": [],
   "source": [
    "session_title_e = driver.find_element(\n",
    "    By.CSS_SELECTOR, 'h3'\n",
    ")\n",
    "session_title = session_title_e.text\n",
    "\n",
    "# sub unit, cosponsor, chair, the presentations\n",
    "h4s = driver.find_elements(\n",
    "    By.CSS_SELECTOR, 'h4'\n",
    ")\n",
    "h4s_texts = [i.text for i in h4s]\n",
    "sub_unit_e_idx = h4s_texts.index('Sub Unit')"
   ]
  },
  {
   "cell_type": "code",
   "execution_count": 20,
   "id": "186d2bf4",
   "metadata": {},
   "outputs": [
    {
     "data": {
      "text/plain": [
       "'Sex, Sexting, Sexuality'"
      ]
     },
     "execution_count": 20,
     "metadata": {},
     "output_type": "execute_result"
    }
   ],
   "source": [
    "session_title"
   ]
  },
  {
   "cell_type": "code",
   "execution_count": 21,
   "id": "79b8944b",
   "metadata": {},
   "outputs": [
    {
     "data": {
      "text/plain": [
       "['Sub Unit', 'Individual Presentations']"
      ]
     },
     "execution_count": 21,
     "metadata": {},
     "output_type": "execute_result"
    }
   ],
   "source": [
    "h4s_texts"
   ]
  },
  {
   "cell_type": "code",
   "execution_count": 22,
   "id": "e5c16633",
   "metadata": {},
   "outputs": [
    {
     "data": {
      "text/plain": [
       "0"
      ]
     },
     "execution_count": 22,
     "metadata": {},
     "output_type": "execute_result"
    }
   ],
   "source": [
    "sub_unit_e_idx"
   ]
  },
  {
   "cell_type": "code",
   "execution_count": 23,
   "id": "54ee96b2",
   "metadata": {},
   "outputs": [],
   "source": [
    "try:\n",
    "    sub_unit_e = driver.find_elements(\n",
    "        By.CSS_SELECTOR, 'ul.ui-listview.ui-listview-inset.ui-corner-all.ui-shadow'\n",
    "    )[4]\n",
    "    sub_unit = sub_unit_e.text\n",
    "except:\n",
    "    sub_unit = None"
   ]
  },
  {
   "cell_type": "code",
   "execution_count": 24,
   "id": "4e7f8694",
   "metadata": {},
   "outputs": [
    {
     "data": {
      "text/plain": [
       "'Children Adolescents and the Media'"
      ]
     },
     "execution_count": 24,
     "metadata": {},
     "output_type": "execute_result"
    }
   ],
   "source": [
    "sub_unit"
   ]
  },
  {
   "cell_type": "code",
   "execution_count": 27,
   "id": "89a6e4ba",
   "metadata": {},
   "outputs": [],
   "source": [
    "if 'Chair' not in h4s_texts:\n",
    "    chair_name = None\n",
    "    chair_aff = None\n",
    "else:\n",
    "    try:\n",
    "        if 'Cosponsor' in h4s_texts:\n",
    "            chair_e_idx = 6\n",
    "        else:\n",
    "            chair_e_idx = 5\n",
    "        # chair_e_idx = h4s_texts.index('Chair')\n",
    "        chair_graybox = driver.find_elements(\n",
    "            By.CSS_SELECTOR, 'ul.ui-listview.ui-listview-inset.ui-corner-all.ui-shadow'\n",
    "        )[chair_e_idx]\n",
    "        chair_es = chair_graybox.find_elements(\n",
    "            By.CSS_SELECTOR, 'li'\n",
    "        )\n",
    "        if chair_es:\n",
    "            if len(chair_es) == 1:\n",
    "                chair_info = chair_es[0].text\n",
    "                chair_name = chair_info.split(', ')[0]\n",
    "                chair_aff = chair_info.split(', ')[1]\n",
    "            # this is to solve the issue of when there are multiple chairs. For example,\n",
    "            # year 2018, session 'Research Escalator - Part 1'\n",
    "            else:\n",
    "                chair_name = ''\n",
    "                chair_aff = ''\n",
    "                for chair_e in chair_es:\n",
    "                    chair_info = chair_e.text\n",
    "                    chair_name_i = chair_info.split(', ')[0]\n",
    "                    chair_aff_i = chair_info.split(', ')[1]\n",
    "                    chair_name += chair_name_i\n",
    "                    chair_aff += chair_aff_i\n",
    "                    if chair_e != chair_es[-1]:\n",
    "                        chair_name += '; '\n",
    "                        chair_aff += '; '\n",
    "    except:\n",
    "        chair_name = None\n",
    "        chair_aff = None"
   ]
  },
  {
   "cell_type": "code",
   "execution_count": 29,
   "id": "4d61d9ef",
   "metadata": {},
   "outputs": [
    {
     "data": {
      "text/plain": [
       "(None, None)"
      ]
     },
     "execution_count": 29,
     "metadata": {},
     "output_type": "execute_result"
    }
   ],
   "source": [
    "chair_name, chair_aff"
   ]
  },
  {
   "cell_type": "code",
   "execution_count": 30,
   "id": "f644c9a6",
   "metadata": {},
   "outputs": [
    {
     "data": {
      "text/plain": [
       "False"
      ]
     },
     "execution_count": 30,
     "metadata": {},
     "output_type": "execute_result"
    }
   ],
   "source": [
    "len(chair_es) == 1"
   ]
  },
  {
   "cell_type": "markdown",
   "id": "79b9c931",
   "metadata": {},
   "source": [
    "## String"
   ]
  },
  {
   "cell_type": "code",
   "execution_count": 40,
   "id": "71c807a4",
   "metadata": {},
   "outputs": [],
   "source": [
    "df = pd.read_csv('../data/interim/paper_df_2014_2018.csv')"
   ]
  },
  {
   "cell_type": "code",
   "execution_count": 41,
   "id": "81c24dde",
   "metadata": {},
   "outputs": [
    {
     "data": {
      "text/plain": [
       "'A key factor in finding television writing jobs in Hollywood is access to the professional\\nnetwork of writers. Phalen, Ksiazek and Garber (2016) conducted a network analysis of\\nHollywood writers, and found that those who were most central in terms of degree centrality\\nwere men. They also found that the writers who scored highest on betweenness centrality\\nwere women. Their analysis, however, was limited to 5 years, and included no data on the\\nways the writers’ network might change over time. Additionally, their study combined the\\ngenres of comedy and drama, making it impossible to view differences between the two.\\nHollywood Voices presents a more nuanced analysis of the television writers’ network over a\\nlonger period of time, highlighting differences between men and women, and between writers\\nin comedy and drama, on measures of betweenness and closeness centrality.'"
      ]
     },
     "execution_count": 41,
     "metadata": {},
     "output_type": "execute_result"
    }
   ],
   "source": [
    "astr = df.abstract[107]\n",
    "astr"
   ]
  },
  {
   "cell_type": "markdown",
   "id": "1119027b",
   "metadata": {},
   "source": [
    "'A key factor in finding television writing jobs in Hollywood is access to the professional\\nnetwork of writers. Phalen, Ksiazek and Garber (2016) conducted a network analysis of\\nHollywood writers, and found that those who were most central in terms of degree centrality\\nwere men. They also found that the writers who scored highest on betweenness centrality\\nwere women. Their analysis, however, was limited to 5 years, and included no data on the\\nways the writers’ network might change over time. Additionally, their study combined the\\ngenres of comedy and drama, making it impossible to view differences between the two.\\nHollywood Voices presents a more nuanced analysis of the television writers’ network over a\\nlonger period of time, highlighting differences between men and women, and between writers\\nin comedy and drama, on measures of betweenness and closeness centrality.'"
   ]
  },
  {
   "cell_type": "code",
   "execution_count": 42,
   "id": "9f84edb8",
   "metadata": {},
   "outputs": [
    {
     "data": {
      "text/plain": [
       "'A key factor in finding television writing jobs in Hollywood is access to the professional network of writers. Phalen, Ksiazek and Garber (2016) conducted a network analysis of Hollywood writers, and found that those who were most central in terms of degree centrality were men. They also found that the writers who scored highest on betweenness centrality were women. Their analysis, however, was limited to 5 years, and included no data on the ways the writers’ network might change over time. Additionally, their study combined the genres of comedy and drama, making it impossible to view differences between the two. Hollywood Voices presents a more nuanced analysis of the television writers’ network over a longer period of time, highlighting differences between men and women, and between writers in comedy and drama, on measures of betweenness and closeness centrality.'"
      ]
     },
     "execution_count": 42,
     "metadata": {},
     "output_type": "execute_result"
    }
   ],
   "source": [
    "\" \".join(astr.splitlines()).strip()"
   ]
  }
 ],
 "metadata": {
  "kernelspec": {
   "display_name": "Python 3 (ipykernel)",
   "language": "python",
   "name": "python3"
  },
  "language_info": {
   "codemirror_mode": {
    "name": "ipython",
    "version": 3
   },
   "file_extension": ".py",
   "mimetype": "text/x-python",
   "name": "python",
   "nbconvert_exporter": "python",
   "pygments_lexer": "ipython3",
   "version": "3.9.15"
  }
 },
 "nbformat": 4,
 "nbformat_minor": 5
}
