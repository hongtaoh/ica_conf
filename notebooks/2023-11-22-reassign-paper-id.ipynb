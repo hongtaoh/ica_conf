{
 "cells": [
  {
   "cell_type": "markdown",
   "id": "2fbe93fe",
   "metadata": {},
   "source": [
    "This notebook aims to reassign paper id. This is because there are many duplications in years between 2015 and 2018. "
   ]
  },
  {
   "cell_type": "code",
   "execution_count": 3,
   "id": "54f2b907",
   "metadata": {},
   "outputs": [],
   "source": [
    "import pandas as pd\n",
    "import numpy as np"
   ]
  },
  {
   "cell_type": "code",
   "execution_count": 4,
   "id": "fece5a61",
   "metadata": {},
   "outputs": [],
   "source": [
    "df = pd.read_csv(\"../data/processed/paper_df.csv\")"
   ]
  },
  {
   "cell_type": "code",
   "execution_count": 5,
   "id": "9f8f036f",
   "metadata": {},
   "outputs": [
    {
     "data": {
      "text/html": [
       "<div>\n",
       "<style scoped>\n",
       "    .dataframe tbody tr th:only-of-type {\n",
       "        vertical-align: middle;\n",
       "    }\n",
       "\n",
       "    .dataframe tbody tr th {\n",
       "        vertical-align: top;\n",
       "    }\n",
       "\n",
       "    .dataframe thead th {\n",
       "        text-align: right;\n",
       "    }\n",
       "</style>\n",
       "<table border=\"1\" class=\"dataframe\">\n",
       "  <thead>\n",
       "    <tr style=\"text-align: right;\">\n",
       "      <th></th>\n",
       "      <th>Paper ID</th>\n",
       "      <th>Title</th>\n",
       "      <th>Paper Type</th>\n",
       "      <th>Abstract</th>\n",
       "      <th>Number of Authors</th>\n",
       "      <th>Year</th>\n",
       "      <th>Session</th>\n",
       "      <th>Division/Unit</th>\n",
       "    </tr>\n",
       "  </thead>\n",
       "  <tbody>\n",
       "    <tr>\n",
       "      <th>0</th>\n",
       "      <td>2003-0001</td>\n",
       "      <td>Access to the Media Versus Access to Audiences...</td>\n",
       "      <td>Paper</td>\n",
       "      <td>When the issue of speakers' rights of access a...</td>\n",
       "      <td>1.0</td>\n",
       "      <td>2003</td>\n",
       "      <td>NaN</td>\n",
       "      <td>NaN</td>\n",
       "    </tr>\n",
       "    <tr>\n",
       "      <th>1</th>\n",
       "      <td>2003-0002</td>\n",
       "      <td>Accounting Episodes as Communicative Practice ...</td>\n",
       "      <td>Paper</td>\n",
       "      <td>In this paper I describe accounting episodes a...</td>\n",
       "      <td>1.0</td>\n",
       "      <td>2003</td>\n",
       "      <td>NaN</td>\n",
       "      <td>NaN</td>\n",
       "    </tr>\n",
       "    <tr>\n",
       "      <th>2</th>\n",
       "      <td>2003-0003</td>\n",
       "      <td>Accounts of Single-fatherhood: A case study</td>\n",
       "      <td>Paper</td>\n",
       "      <td>Abstract\\nRelying on single-fathers accounts ...</td>\n",
       "      <td>4.0</td>\n",
       "      <td>2003</td>\n",
       "      <td>NaN</td>\n",
       "      <td>NaN</td>\n",
       "    </tr>\n",
       "  </tbody>\n",
       "</table>\n",
       "</div>"
      ],
      "text/plain": [
       "    Paper ID                                              Title Paper Type  \\\n",
       "0  2003-0001  Access to the Media Versus Access to Audiences...      Paper   \n",
       "1  2003-0002  Accounting Episodes as Communicative Practice ...      Paper   \n",
       "2  2003-0003        Accounts of Single-fatherhood: A case study      Paper   \n",
       "\n",
       "                                            Abstract  Number of Authors  Year  \\\n",
       "0  When the issue of speakers' rights of access a...                1.0  2003   \n",
       "1  In this paper I describe accounting episodes a...                1.0  2003   \n",
       "2  Abstract\\nRelying on single-fathers accounts ...                4.0  2003   \n",
       "\n",
       "  Session Division/Unit  \n",
       "0     NaN           NaN  \n",
       "1     NaN           NaN  \n",
       "2     NaN           NaN  "
      ]
     },
     "execution_count": 5,
     "metadata": {},
     "output_type": "execute_result"
    }
   ],
   "source": [
    "df.head(3)"
   ]
  },
  {
   "cell_type": "code",
   "execution_count": 1,
   "id": "1787ebe0",
   "metadata": {},
   "outputs": [],
   "source": [
    "# for group in df.groupby(\"Year\"):\n",
    "#     year = group[0]\n",
    "#     group[1][\"new_paper_id\"] = "
   ]
  },
  {
   "cell_type": "code",
   "execution_count": 9,
   "id": "313e7dd2",
   "metadata": {},
   "outputs": [],
   "source": [
    "df.reset_index(names=\"new_paper_id\", inplace=True)"
   ]
  },
  {
   "cell_type": "code",
   "execution_count": 12,
   "id": "bdeee45d",
   "metadata": {},
   "outputs": [],
   "source": [
    "df.to_json(\"papers_df.json\", orient=\"records\")"
   ]
  }
 ],
 "metadata": {
  "kernelspec": {
   "display_name": "Python 3 (ipykernel)",
   "language": "python",
   "name": "python3"
  },
  "language_info": {
   "codemirror_mode": {
    "name": "ipython",
    "version": 3
   },
   "file_extension": ".py",
   "mimetype": "text/x-python",
   "name": "python",
   "nbconvert_exporter": "python",
   "pygments_lexer": "ipython3",
   "version": "3.11.6"
  }
 },
 "nbformat": 4,
 "nbformat_minor": 5
}
