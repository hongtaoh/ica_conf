{
 "cells": [
  {
   "cell_type": "markdown",
   "metadata": {},
   "source": [
    "This is to debug `generate_json_and_aggreated_data.py`."
   ]
  },
  {
   "cell_type": "code",
   "execution_count": 12,
   "metadata": {},
   "outputs": [],
   "source": [
    "import pandas as pd \n",
    "import json \n",
    "import hashlib"
   ]
  },
  {
   "cell_type": "code",
   "execution_count": 13,
   "metadata": {},
   "outputs": [],
   "source": [
    "def process_papers_df(PAPERS_DF):\n",
    "    papers = pd.read_csv(PAPERS_DF)\n",
    "    papers.columns = ['paper_id', 'title', 'paper_type', 'abstract', \n",
    "                    'number_of_authors', 'year', 'session', 'division', 'authors']\n",
    "    papers.number_of_authors = papers.number_of_authors.fillna(0).astype(int)\n",
    "    papers.drop(['authors'], inplace=True, axis = 1)\n",
    "    return papers \n",
    "\n",
    "def get_session_id_dic(papers, SESSIONS_DF):\n",
    "    sessions = pd.read_csv(SESSIONS_DF)\n",
    "    session_names = pd.Series(list(sessions['Session Title'].dropna()) + list(papers.session.dropna())).unique()\n",
    "    session_ids = [hashlib.md5(name.encode()).hexdigest()[:12] for name in session_names]\n",
    "    session_id_dic = dict(zip(session_names, session_ids))\n",
    "    return session_id_dic\n",
    "\n",
    "def get_authorships_dic_and_paperid_authors_dic(AUTHORS_DF):\n",
    "    authors = pd.read_csv(AUTHORS_DF)\n",
    "    # look like this:\n",
    "    \"\"\"\n",
    "    [{'position': 0, 'author_name': 'Åsa Kroon', 'author_affiliation': 'Örebro U'},\n",
    "    {'position': 1,\n",
    "    'author_name': 'Mats Erik Ekstrom',\n",
    "    'author_affiliation': 'Orebro U'}]\n",
    "    \"\"\"\n",
    "    authorships_dic = {}\n",
    "    # this is easy to understand. key is paper_id, value is list of authors\n",
    "    paperid_authors_dic = {}\n",
    "    # for every paper\n",
    "    for paper_id, group in authors.groupby('Paper ID'):\n",
    "        paperid_authors_dic[paper_id] = list(group['Author Name'])\n",
    "        authorships = []\n",
    "        author_names = group['Author Name'].tolist()\n",
    "        affs = group['Author Affiliation'].tolist()\n",
    "        for i, author_name in enumerate(author_names):\n",
    "            dic = {}\n",
    "            dic['position'] = i\n",
    "            dic['author_name'] = author_name \n",
    "            dic['author_affiliation'] = affs[i]\n",
    "            authorships.append(dic)\n",
    "        authorships_dic[paper_id] = authorships\n",
    "    return authorships_dic, paperid_authors_dic\n",
    "\n",
    "def get_session_dic(SESSIONS_DF):\n",
    "    \"\"\"\n",
    "    looks like this:\n",
    "\n",
    "    {'session': 'Sports Communication Interactive Poster Session',\n",
    "    'session_type': 'Interactive Paper Session',\n",
    "    'chair_name': nan,\n",
    "    'chair_affiliation': nan,\n",
    "    'division': 'In Event: ICA Plenary Interactive Paper/Poster Session II'}\n",
    "    \"\"\"\n",
    "    sessions = pd.read_csv(SESSIONS_DF)\n",
    "    session_dic = {}\n",
    "    for session, group in sessions.groupby('Session Title'):\n",
    "        dic = {}\n",
    "        dic['session'] = session\n",
    "        dic['session_type'] = group['Session Type'].tolist()[0]\n",
    "        dic['chair_name'] = group['Chair Name'].tolist()[0]\n",
    "        dic['chair_affiliation'] = group['Chair Affiliation'].tolist()[0]\n",
    "        dic['division'] = group['Division/Unit'].tolist()[0]\n",
    "\n",
    "        # add what we eventually want\n",
    "        dic['years'] = []\n",
    "        dic['paper_count'] = 0\n",
    "        session_dic[session] = dic \n",
    "    return session_dic\n",
    "\n",
    "def update_papers_json(\n",
    "        papers_json_raw, \n",
    "        authorships_dic, \n",
    "        paperid_authors_dic, \n",
    "        session_dic,\n",
    "        session_id_dic\n",
    "    ):\n",
    "    for paper_dic in papers_json_raw:\n",
    "        try:\n",
    "            paper_dic['authorships'] = authorships_dic[paper_dic['paper_id']]\n",
    "        except:\n",
    "            paper_dic['authorships'] = None\n",
    "        try:\n",
    "            paper_dic['author_names'] = paperid_authors_dic[paper_dic['paper_id']]\n",
    "        except:\n",
    "            paper_dic['author_names'] = None \n",
    "        try:\n",
    "            paper_dic['session_info'] = session_dic[paper_dic['session']]\n",
    "        except:\n",
    "            paper_dic['session_info'] = None\n",
    "        if paper_dic['session']:\n",
    "            if paper_dic['session_info']:\n",
    "                paper_dic['session_info']['session_id'] = session_id_dic.get(paper_dic['session'], None)\n",
    "\n",
    "def get_sessions_json(papers, session_dic, session_id_dic):\n",
    "    \"\"\"Note that sessions_json now contains all sessions, both in papers and also sessions\n",
    "    \"\"\"\n",
    "    # groupby excludes rows with nan values\n",
    "    for session, group in papers.groupby('session'):\n",
    "        has_valid_years = not group['year'].isnull().all()\n",
    "        if session in session_dic:\n",
    "            # if session is already in session_dic\n",
    "            # update data\n",
    "            session_dic[session]['years'] = [int(year) for year in group['year'].dropna().unique()] if has_valid_years else []\n",
    "            session_dic[session]['paper_count'] = int(len(group))\n",
    "        else:\n",
    "            # if session is not in session_dic\n",
    "            # add it to session_dic\n",
    "            dic = {}\n",
    "            dic['session'] = session\n",
    "            dic['years'] = [int(year) for year in group['year'].dropna().unique()] if has_valid_years else []\n",
    "            dic['paper_count'] = int(len(group))\n",
    "            dic['session_type'] = None \n",
    "            dic['chair_name'] = None \n",
    "            dic['chair_affiliation'] = None\n",
    "            try:\n",
    "                dic['division'] = group.division.dropna().unique()[0]\n",
    "            except:\n",
    "                dic['division'] = None\n",
    "            session_dic[session] = dic\n",
    "    sessions_json = list(session_dic.values())\n",
    "    for session in sessions_json:\n",
    "        session['session_id'] = session_id_dic.get(session['session'], None)\n",
    "        session['paper_count'] = session.get('paper_count', 0)\n",
    "        session['years'] = session.get('years', [])  # Ensure 'years' is present\n",
    "        # this function is for all sessions present in the papers_df\n",
    "        # but the original session_dic is all sessions in sessions_df whose Session Title is not null\n",
    "        # so some sessions in session_dic but not in papers_df won't have 'year'\n",
    "    return sessions_json\n",
    "\n",
    "def get_authors_json(AUTHORS_DF):\n",
    "    authors = pd.read_csv(AUTHORS_DF)\n",
    "    authors_json = []\n",
    "    for author_name, group in authors.groupby('Author Name'):\n",
    "        # sort by year to make sure affs are in temporal order \n",
    "        group = group.sort_values('Year', ascending=True)\n",
    "        paper_ids = list(group['Paper ID'].unique())\n",
    "        affs = list(group['Author Affiliation'].dropna().unique())\n",
    "        years = [int(year) for year in group['Year'].unique()]\n",
    "        dic = {\n",
    "            'author_name': author_name,\n",
    "            'attend_count': int(len(years)),\n",
    "            'paper_count': int(len(paper_ids)),\n",
    "            'paper_ids': paper_ids,\n",
    "            'affiliations': affs,\n",
    "            'affiliation_history': \" -> \".join(map(str, affs)),\n",
    "            'years_attended': years,\n",
    "        }\n",
    "        authors_json.append(dic)\n",
    "    # sort by attend_count, descending\n",
    "    return sorted(authors_json, key=lambda x: x['attend_count'], reverse=True)"
   ]
  },
  {
   "cell_type": "code",
   "execution_count": 14,
   "metadata": {},
   "outputs": [],
   "source": [
    "PAPERS_DF = '../data/processed/papers.csv'\n",
    "AUTHORS_DF = '../data/processed/authors.csv'\n",
    "SESSIONS_DF = '../data/processed/sessions.csv'"
   ]
  },
  {
   "cell_type": "code",
   "execution_count": 15,
   "metadata": {},
   "outputs": [],
   "source": [
    "papers = process_papers_df(PAPERS_DF)\n",
    "paper_ids = papers.paper_id.unique()\n",
    "session_id_dic = get_session_id_dic(papers, SESSIONS_DF)\n",
    "papers_json_raw = json.loads(papers.to_json(orient='records'))\n",
    "authorships_dic, paperid_authors_dic = get_authorships_dic_and_paperid_authors_dic(\n",
    "    AUTHORS_DF\n",
    ")\n",
    "session_dic = get_session_dic(SESSIONS_DF)\n",
    "update_papers_json(\n",
    "    papers_json_raw, \n",
    "    authorships_dic, \n",
    "    paperid_authors_dic, \n",
    "    session_dic,\n",
    "    session_id_dic\n",
    ")"
   ]
  },
  {
   "cell_type": "code",
   "execution_count": 23,
   "metadata": {},
   "outputs": [
    {
     "data": {
      "text/plain": [
       "{'paper_id': '2018-0255',\n",
       " 'title': 'The Impact of Presenting Physiological Data During Sporting Events on Audiences Entertainment',\n",
       " 'paper_type': 'Poster',\n",
       " 'abstract': 'Psychophysiological data has been useful in many domains and this study examines the use of such information in the domain of sports audiences. This study employs a four condition experiment in which participants watched a short sports clip displaying different physiological measures in the corner. The participants were then asked about their perceptions of the clip. Broadly, there was not much difference between groups based on the types of information presented, however, presenting blood pressure information proved to be the most entertaining for audiences. This provides early evidence that the presentation of physiological information during a sporting event can impact feelings of enjoyment, meaningfulness, and perceptions of knowledge of the sport. There is promise for these measures to be used in sports media provided that best practices are followed and attention is paid to important factors.',\n",
       " 'number_of_authors': 1,\n",
       " 'year': 2018,\n",
       " 'session': 'Sports Communication Interactive Poster Session',\n",
       " 'division': 'In Event: ICA Interactive Paper/Poster Session III',\n",
       " 'authorships': [{'position': 0,\n",
       "   'author_name': 'Yu-Hao Lee',\n",
       "   'author_affiliation': 'University of Florida'},\n",
       "  {'position': 1,\n",
       "   'author_name': 'Dave Mclean',\n",
       "   'author_affiliation': 'U of Florida'},\n",
       "  {'position': 2,\n",
       "   'author_name': 'Bruce Getz',\n",
       "   'author_affiliation': 'U of Florida'},\n",
       "  {'position': 3,\n",
       "   'author_name': 'Ryan Rogers',\n",
       "   'author_affiliation': 'Butler University'}],\n",
       " 'author_names': ['Yu-Hao Lee', 'Dave Mclean', 'Bruce Getz', 'Ryan Rogers'],\n",
       " 'session_info': {'session': 'Sports Communication Interactive Poster Session',\n",
       "  'session_type': 'Interactive Paper Session',\n",
       "  'chair_name': nan,\n",
       "  'chair_affiliation': nan,\n",
       "  'division': 'In Event: ICA Plenary Interactive Paper/Poster Session II',\n",
       "  'years': [2016, 2017, 2018],\n",
       "  'paper_count': 10,\n",
       "  'session_id': 'eda4a24eb37a'}}"
      ]
     },
     "execution_count": 23,
     "metadata": {},
     "output_type": "execute_result"
    }
   ],
   "source": [
    "papers_json_raw[-1]"
   ]
  },
  {
   "cell_type": "code",
   "execution_count": 17,
   "metadata": {},
   "outputs": [],
   "source": [
    "with open('papers.json', 'w') as f:\n",
    "    json.dump(papers_json_raw, f, indent=2)"
   ]
  },
  {
   "cell_type": "code",
   "execution_count": 18,
   "metadata": {},
   "outputs": [],
   "source": [
    "sessions_json_raw = get_sessions_json(papers, session_dic, session_id_dic)\n",
    "authors_json_raw = get_authors_json(AUTHORS_DF)"
   ]
  },
  {
   "cell_type": "code",
   "execution_count": 19,
   "metadata": {},
   "outputs": [
    {
     "data": {
      "text/plain": [
       "{'session': '“I’m Ready for My Close-Up”: Representations of Women and Gender on Reality Television (Panel Session)',\n",
       " 'years': [2013],\n",
       " 'paper_count': 4,\n",
       " 'session_type': None,\n",
       " 'chair_name': None,\n",
       " 'chair_affiliation': None,\n",
       " 'division': 'Mass Communication',\n",
       " 'session_id': '7f7aa4bd74f0'}"
      ]
     },
     "execution_count": 19,
     "metadata": {},
     "output_type": "execute_result"
    }
   ],
   "source": [
    "sessions_json_raw[-1]"
   ]
  },
  {
   "cell_type": "code",
   "execution_count": 20,
   "metadata": {},
   "outputs": [],
   "source": [
    "with open('authors.json', 'w') as f:\n",
    "    json.dump(authors_json_raw, f, indent=2)"
   ]
  },
  {
   "cell_type": "code",
   "execution_count": 21,
   "metadata": {},
   "outputs": [],
   "source": [
    "with open('sessions.json', 'w') as f:\n",
    "    json.dump(sessions_json_raw, f, indent=2)"
   ]
  }
 ],
 "metadata": {
  "kernelspec": {
   "display_name": "farm",
   "language": "python",
   "name": "python3"
  },
  "language_info": {
   "codemirror_mode": {
    "name": "ipython",
    "version": 3
   },
   "file_extension": ".py",
   "mimetype": "text/x-python",
   "name": "python",
   "nbconvert_exporter": "python",
   "pygments_lexer": "ipython3",
   "version": "3.11.5"
  }
 },
 "nbformat": 4,
 "nbformat_minor": 2
}
