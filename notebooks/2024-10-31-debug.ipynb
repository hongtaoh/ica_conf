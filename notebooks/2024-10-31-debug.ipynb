{
 "cells": [
  {
   "cell_type": "markdown",
   "metadata": {},
   "source": [
    "This is to debug `generate_json_and_aggreated_data.py`."
   ]
  },
  {
   "cell_type": "code",
   "execution_count": 28,
   "metadata": {},
   "outputs": [],
   "source": [
    "import pandas as pd \n",
    "import json \n",
    "import numpy as np \n",
    "\n",
    "def process_papers_df(PAPERS_DF):\n",
    "    papers = pd.read_csv(PAPERS_DF)\n",
    "    papers.columns = ['paper_id', 'title', 'paper_type', 'abstract', \n",
    "                    'number_of_authors', 'year', 'session', 'division', 'authors']\n",
    "    papers.drop(['authors'], inplace=True, axis = 1)\n",
    "    return papers \n",
    "\n",
    "def get_authorships_dic_and_paperid_authors_dic(AUTHORS_DF):\n",
    "    authors = pd.read_csv(AUTHORS_DF)\n",
    "    # look like this:\n",
    "    \"\"\"\n",
    "    [{'position': 0, 'author_name': 'Åsa Kroon', 'author_affiliation': 'Örebro U'},\n",
    "    {'position': 1,\n",
    "    'author_name': 'Mats Erik Ekstrom',\n",
    "    'author_affiliation': 'Orebro U'}]\n",
    "    \"\"\"\n",
    "    authorships_dic = {}\n",
    "    # this is easy to understand. key is paper_id, value is list of authors\n",
    "    paperid_authors_dic = {}\n",
    "    # for every paper\n",
    "    for paper_id, group in authors.groupby('Paper ID'):\n",
    "        paperid_authors_dic[paper_id] = list(group['Author Name'])\n",
    "        authorships = []\n",
    "        author_names = group['Author Name'].tolist()\n",
    "        affs = group['Author Affiliation'].tolist()\n",
    "        for i, author_name in enumerate(author_names):\n",
    "            dic = {}\n",
    "            dic['position'] = i\n",
    "            dic['author_name'] = author_name \n",
    "            dic['author_affiliation'] = affs[i]\n",
    "            authorships.append(dic)\n",
    "        authorships_dic[paper_id] = authorships\n",
    "    return authorships_dic, paperid_authors_dic\n",
    "\n",
    "def get_session_dic(SESSIONS_DF):\n",
    "    \"\"\"\n",
    "    looks like this:\n",
    "\n",
    "    {'session': 'Sports Communication Interactive Poster Session',\n",
    "    'session_type': 'Interactive Paper Session',\n",
    "    'chair_name': nan,\n",
    "    'chair_affiliation': nan,\n",
    "    'division': 'In Event: ICA Plenary Interactive Paper/Poster Session II'}\n",
    "    \"\"\"\n",
    "    sessions = pd.read_csv(SESSIONS_DF)\n",
    "    session_dic = {}\n",
    "    for session, group in sessions.groupby('Session Title'):\n",
    "        dic = {}\n",
    "        dic['session'] = session\n",
    "        dic['session_type'] = group['Session Type'].tolist()[0]\n",
    "        dic['chair_name'] = group['Chair Name'].tolist()[0]\n",
    "        dic['chair_affiliation'] = group['Chair Affiliation'].tolist()[0]\n",
    "        dic['division'] = group['Division/Unit'].tolist()[0]\n",
    "        session_dic[session] = dic \n",
    "    return session_dic\n",
    "\n",
    "def update_papers_json(\n",
    "        papers_json_raw, authorships_dic, paperid_authors_dic, session_dic):\n",
    "    for paper_dic in papers_json_raw:\n",
    "        try:\n",
    "            paper_dic['authorships'] = authorships_dic[paper_dic['paper_id']]\n",
    "        except:\n",
    "            paper_dic['authorships'] = None\n",
    "        try:\n",
    "            paper_dic['author_names'] = paperid_authors_dic[paper_dic['paper_id']]\n",
    "        except:\n",
    "            paper_dic['author_names'] = None \n",
    "        try:\n",
    "            paper_dic['session_info'] = session_dic[paper_dic['session']]\n",
    "        except:\n",
    "            paper_dic['session_info'] = None\n",
    "\n",
    "def get_sessions_json(papers, session_dic):\n",
    "    for session, group in papers.groupby('session'):\n",
    "    # groupby excludes rows with nan values\n",
    "        if session in session_dic:\n",
    "            session_dic[session]['years'] = [int(year) for year in group['year'].unique()]\n",
    "            session_dic[session]['paper_count'] = len(group)\n",
    "        else:\n",
    "            dic = {}\n",
    "            dic['session'] = session\n",
    "            dic['years'] = [int(year) for year in group['year'].unique()]\n",
    "            dic['paper_count'] = len(group)\n",
    "            dic['session_type'] = None \n",
    "            dic['chair_name'] = None \n",
    "            dic['chair_affiliation'] = None\n",
    "            try:\n",
    "                dic['division'] = group.division.unique()[0]\n",
    "            except:\n",
    "                dic['division'] = None\n",
    "            session_dic[session] = dic\n",
    "    sessions_json = list(session_dic.values())\n",
    "    return sessions_json\n",
    "\n",
    "def get_authors_json(AUTHORS_DF):\n",
    "    authors = pd.read_csv(AUTHORS_DF)\n",
    "    authors_json = []\n",
    "    for author_name, group in authors.groupby('Author Name'):\n",
    "        # sort by year to make sure affs are in temporal order \n",
    "        group = group.sort_values('Year', ascending=True)\n",
    "        paper_ids = list(group['Paper ID'].unique())\n",
    "        affs = group['Author Affiliation'].dropna().unique()\n",
    "        years = [int(year) for year in group['Year'].unique()]\n",
    "        dic = {\n",
    "            'author_name': author_name,\n",
    "            'attend_count': int(len(years)),\n",
    "            'paper_count': int(len(paper_ids)),\n",
    "            'paper_ids': paper_ids,\n",
    "            'affiliation': \" -> \".join(map(str, affs)),\n",
    "            'years_attended': years,\n",
    "        }\n",
    "        authors_json.append(dic)\n",
    "    # sort by attend_count, descending\n",
    "    return sorted(authors_json, key=lambda x: x['attend_count'], reverse=True)"
   ]
  },
  {
   "cell_type": "code",
   "execution_count": 29,
   "metadata": {},
   "outputs": [],
   "source": [
    "PAPERS_DF = '../data/processed/papers.csv'\n",
    "AUTHORS_DF = '../data/processed/authors.csv'\n",
    "SESSIONS_DF = '../data/processed/sessions.csv'"
   ]
  },
  {
   "cell_type": "code",
   "execution_count": 30,
   "metadata": {},
   "outputs": [],
   "source": [
    "papers = process_papers_df(PAPERS_DF)\n",
    "paper_ids = papers.paper_id.unique()\n",
    "papers_json_raw = json.loads(papers.to_json(orient='records'))\n",
    "authorships_dic, paperid_authors_dic = get_authorships_dic_and_paperid_authors_dic(\n",
    "    AUTHORS_DF\n",
    ")\n",
    "session_dic = get_session_dic(SESSIONS_DF)\n",
    "update_papers_json(\n",
    "    papers_json_raw, \n",
    "    authorships_dic, \n",
    "    paperid_authors_dic, \n",
    "    session_dic\n",
    ")"
   ]
  },
  {
   "cell_type": "code",
   "execution_count": 31,
   "metadata": {},
   "outputs": [
    {
     "data": {
      "text/plain": [
       "{'paper_id': '2003-0001',\n",
       " 'title': 'Access to the Media Versus Access to Audiences: The Distinction and its Implications for Media Regulation and Policy',\n",
       " 'paper_type': 'Paper',\n",
       " 'abstract': 'When the issue of speakers\\' rights of access arises in media regulation and policy contexts, the focus typically is on the concept of speakers\\' rights of access \"to the media,\" or \"to the press.\" This right typically is premised on the audience\\'s need for access to diverse sources and content. In contrast, in many non-mediated contexts, the concept of speakers\\' rights of access frequently is defined in terms of the speaker\\'s own First Amendment right of access to audiences. This paper explores the distinctions between these differing interpretations of a speaker\\'s access rights and argues that the concept of a speaker\\'s right of access to audiences merits a more prominent position in media regulation and policy. This paper then explores the implications of such a shift in perspective for media regulation and policy-making.',\n",
       " 'number_of_authors': 1.0,\n",
       " 'year': 2003,\n",
       " 'session': None,\n",
       " 'division': None,\n",
       " 'authorships': [{'position': 0,\n",
       "   'author_name': 'Philip Napoli',\n",
       "   'author_affiliation': 'Fordham U'}],\n",
       " 'author_names': ['Philip Napoli'],\n",
       " 'session_info': None}"
      ]
     },
     "execution_count": 31,
     "metadata": {},
     "output_type": "execute_result"
    }
   ],
   "source": [
    "papers_json_raw[0]"
   ]
  },
  {
   "cell_type": "code",
   "execution_count": 32,
   "metadata": {},
   "outputs": [],
   "source": [
    "with open('papers.json', 'w') as f:\n",
    "    json.dump(papers_json_raw, f, indent=2)"
   ]
  },
  {
   "cell_type": "code",
   "execution_count": 33,
   "metadata": {},
   "outputs": [],
   "source": [
    "sessions_json_raw = get_sessions_json(papers, session_dic)\n",
    "authors_json_raw = get_authors_json(AUTHORS_DF)"
   ]
  },
  {
   "cell_type": "code",
   "execution_count": 34,
   "metadata": {},
   "outputs": [],
   "source": [
    "with open('authors.json', 'w') as f:\n",
    "    json.dump(authors_json_raw, f, indent=2)"
   ]
  },
  {
   "cell_type": "code",
   "execution_count": 35,
   "metadata": {},
   "outputs": [],
   "source": [
    "with open('sessions.json', 'w') as f:\n",
    "    json.dump(sessions_json_raw, f, indent=2)"
   ]
  }
 ],
 "metadata": {
  "kernelspec": {
   "display_name": "farm",
   "language": "python",
   "name": "python3"
  },
  "language_info": {
   "codemirror_mode": {
    "name": "ipython",
    "version": 3
   },
   "file_extension": ".py",
   "mimetype": "text/x-python",
   "name": "python",
   "nbconvert_exporter": "python",
   "pygments_lexer": "ipython3",
   "version": "3.11.5"
  }
 },
 "nbformat": 4,
 "nbformat_minor": 2
}
