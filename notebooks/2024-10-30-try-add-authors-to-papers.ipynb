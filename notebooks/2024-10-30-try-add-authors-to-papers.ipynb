{
 "cells": [
  {
   "cell_type": "code",
   "execution_count": 3,
   "metadata": {},
   "outputs": [],
   "source": [
    "import pandas as pd \n",
    "import numpy as np"
   ]
  },
  {
   "cell_type": "code",
   "execution_count": 4,
   "metadata": {},
   "outputs": [
    {
     "data": {
      "text/html": [
       "<div>\n",
       "<style scoped>\n",
       "    .dataframe tbody tr th:only-of-type {\n",
       "        vertical-align: middle;\n",
       "    }\n",
       "\n",
       "    .dataframe tbody tr th {\n",
       "        vertical-align: top;\n",
       "    }\n",
       "\n",
       "    .dataframe thead th {\n",
       "        text-align: right;\n",
       "    }\n",
       "</style>\n",
       "<table border=\"1\" class=\"dataframe\">\n",
       "  <thead>\n",
       "    <tr style=\"text-align: right;\">\n",
       "      <th></th>\n",
       "      <th>Paper ID</th>\n",
       "      <th>Title</th>\n",
       "      <th>Number of Authors</th>\n",
       "      <th>Author Position</th>\n",
       "      <th>Author Name</th>\n",
       "      <th>Author Affiliation</th>\n",
       "      <th>Year</th>\n",
       "    </tr>\n",
       "  </thead>\n",
       "  <tbody>\n",
       "    <tr>\n",
       "      <th>0</th>\n",
       "      <td>2003-0001</td>\n",
       "      <td>Access to the Media Versus Access to Audiences...</td>\n",
       "      <td>1</td>\n",
       "      <td>1</td>\n",
       "      <td>Philip Napoli</td>\n",
       "      <td>Fordham U</td>\n",
       "      <td>2003</td>\n",
       "    </tr>\n",
       "    <tr>\n",
       "      <th>1</th>\n",
       "      <td>2003-0002</td>\n",
       "      <td>Accounting Episodes as Communicative Practice ...</td>\n",
       "      <td>1</td>\n",
       "      <td>1</td>\n",
       "      <td>Mariko Kotani</td>\n",
       "      <td>Aoyama Gakuin University</td>\n",
       "      <td>2003</td>\n",
       "    </tr>\n",
       "    <tr>\n",
       "      <th>2</th>\n",
       "      <td>2003-0003</td>\n",
       "      <td>Accounts of Single-fatherhood: A case study</td>\n",
       "      <td>4</td>\n",
       "      <td>1</td>\n",
       "      <td>Tara M Emmers-Sommer</td>\n",
       "      <td>University of Arizona</td>\n",
       "      <td>2003</td>\n",
       "    </tr>\n",
       "    <tr>\n",
       "      <th>3</th>\n",
       "      <td>2003-0003</td>\n",
       "      <td>Accounts of Single-fatherhood: A case study</td>\n",
       "      <td>4</td>\n",
       "      <td>2</td>\n",
       "      <td>David Rhea</td>\n",
       "      <td>University of Arizona</td>\n",
       "      <td>2003</td>\n",
       "    </tr>\n",
       "    <tr>\n",
       "      <th>4</th>\n",
       "      <td>2003-0003</td>\n",
       "      <td>Accounts of Single-fatherhood: A case study</td>\n",
       "      <td>4</td>\n",
       "      <td>3</td>\n",
       "      <td>Laura Triplett</td>\n",
       "      <td>University of Arizona</td>\n",
       "      <td>2003</td>\n",
       "    </tr>\n",
       "  </tbody>\n",
       "</table>\n",
       "</div>"
      ],
      "text/plain": [
       "    Paper ID                                              Title  \\\n",
       "0  2003-0001  Access to the Media Versus Access to Audiences...   \n",
       "1  2003-0002  Accounting Episodes as Communicative Practice ...   \n",
       "2  2003-0003        Accounts of Single-fatherhood: A case study   \n",
       "3  2003-0003        Accounts of Single-fatherhood: A case study   \n",
       "4  2003-0003        Accounts of Single-fatherhood: A case study   \n",
       "\n",
       "   Number of Authors  Author Position           Author Name  \\\n",
       "0                  1                1         Philip Napoli   \n",
       "1                  1                1         Mariko Kotani   \n",
       "2                  4                1  Tara M Emmers-Sommer   \n",
       "3                  4                2            David Rhea   \n",
       "4                  4                3        Laura Triplett   \n",
       "\n",
       "         Author Affiliation  Year  \n",
       "0                 Fordham U  2003  \n",
       "1  Aoyama Gakuin University  2003  \n",
       "2     University of Arizona  2003  \n",
       "3     University of Arizona  2003  \n",
       "4     University of Arizona  2003  "
      ]
     },
     "execution_count": 4,
     "metadata": {},
     "output_type": "execute_result"
    }
   ],
   "source": [
    "authors = pd.read_csv('../data/processed/author_df.csv')\n",
    "authors.head()"
   ]
  },
  {
   "cell_type": "code",
   "execution_count": 5,
   "metadata": {},
   "outputs": [
    {
     "data": {
      "text/html": [
       "<div>\n",
       "<style scoped>\n",
       "    .dataframe tbody tr th:only-of-type {\n",
       "        vertical-align: middle;\n",
       "    }\n",
       "\n",
       "    .dataframe tbody tr th {\n",
       "        vertical-align: top;\n",
       "    }\n",
       "\n",
       "    .dataframe thead th {\n",
       "        text-align: right;\n",
       "    }\n",
       "</style>\n",
       "<table border=\"1\" class=\"dataframe\">\n",
       "  <thead>\n",
       "    <tr style=\"text-align: right;\">\n",
       "      <th></th>\n",
       "      <th>Paper ID</th>\n",
       "      <th>Title</th>\n",
       "      <th>Number of Authors</th>\n",
       "      <th>Author Position</th>\n",
       "      <th>Author Name</th>\n",
       "      <th>Author Affiliation</th>\n",
       "      <th>Year</th>\n",
       "    </tr>\n",
       "  </thead>\n",
       "  <tbody>\n",
       "  </tbody>\n",
       "</table>\n",
       "</div>"
      ],
      "text/plain": [
       "Empty DataFrame\n",
       "Columns: [Paper ID, Title, Number of Authors, Author Position, Author Name, Author Affiliation, Year]\n",
       "Index: []"
      ]
     },
     "execution_count": 5,
     "metadata": {},
     "output_type": "execute_result"
    }
   ],
   "source": [
    "authors[authors['Paper ID'] == '2005-0806']"
   ]
  },
  {
   "cell_type": "code",
   "execution_count": 6,
   "metadata": {},
   "outputs": [],
   "source": [
    "paperid_authors_dic = {}\n",
    "for paper_id, group in authors.groupby('Paper ID'):\n",
    "    paperid_authors_dic[paper_id] = np.array((group['Author Name']))"
   ]
  },
  {
   "cell_type": "code",
   "execution_count": 7,
   "metadata": {},
   "outputs": [
    {
     "data": {
      "text/plain": [
       "array(['Philip Napoli'], dtype=object)"
      ]
     },
     "execution_count": 7,
     "metadata": {},
     "output_type": "execute_result"
    }
   ],
   "source": [
    "paperid_authors_dic['2003-0001']"
   ]
  },
  {
   "cell_type": "code",
   "execution_count": 8,
   "metadata": {},
   "outputs": [
    {
     "data": {
      "text/html": [
       "<div>\n",
       "<style scoped>\n",
       "    .dataframe tbody tr th:only-of-type {\n",
       "        vertical-align: middle;\n",
       "    }\n",
       "\n",
       "    .dataframe tbody tr th {\n",
       "        vertical-align: top;\n",
       "    }\n",
       "\n",
       "    .dataframe thead th {\n",
       "        text-align: right;\n",
       "    }\n",
       "</style>\n",
       "<table border=\"1\" class=\"dataframe\">\n",
       "  <thead>\n",
       "    <tr style=\"text-align: right;\">\n",
       "      <th></th>\n",
       "      <th>Paper ID</th>\n",
       "      <th>Title</th>\n",
       "      <th>Paper Type</th>\n",
       "      <th>Abstract</th>\n",
       "      <th>Number of Authors</th>\n",
       "      <th>Year</th>\n",
       "      <th>Session</th>\n",
       "      <th>Division/Unit</th>\n",
       "      <th>Authors</th>\n",
       "    </tr>\n",
       "  </thead>\n",
       "  <tbody>\n",
       "    <tr>\n",
       "      <th>0</th>\n",
       "      <td>2003-0001</td>\n",
       "      <td>Access to the Media Versus Access to Audiences...</td>\n",
       "      <td>Paper</td>\n",
       "      <td>When the issue of speakers' rights of access a...</td>\n",
       "      <td>1.0</td>\n",
       "      <td>2003</td>\n",
       "      <td>NaN</td>\n",
       "      <td>NaN</td>\n",
       "      <td>['Philip Napoli']</td>\n",
       "    </tr>\n",
       "    <tr>\n",
       "      <th>1</th>\n",
       "      <td>2003-0002</td>\n",
       "      <td>Accounting Episodes as Communicative Practice ...</td>\n",
       "      <td>Paper</td>\n",
       "      <td>In this paper I describe accounting episodes a...</td>\n",
       "      <td>1.0</td>\n",
       "      <td>2003</td>\n",
       "      <td>NaN</td>\n",
       "      <td>NaN</td>\n",
       "      <td>['Mariko Kotani']</td>\n",
       "    </tr>\n",
       "    <tr>\n",
       "      <th>2</th>\n",
       "      <td>2003-0003</td>\n",
       "      <td>Accounts of Single-fatherhood: A case study</td>\n",
       "      <td>Paper</td>\n",
       "      <td>Abstract\\nRelying on single-fathers accounts ...</td>\n",
       "      <td>4.0</td>\n",
       "      <td>2003</td>\n",
       "      <td>NaN</td>\n",
       "      <td>NaN</td>\n",
       "      <td>['Tara M Emmers-Sommer' 'David Rhea' 'Laura Tr...</td>\n",
       "    </tr>\n",
       "    <tr>\n",
       "      <th>3</th>\n",
       "      <td>2003-0004</td>\n",
       "      <td>A Challenge to the Duel: Socializing Dedicated...</td>\n",
       "      <td>Paper</td>\n",
       "      <td>This paper explores the structural controls av...</td>\n",
       "      <td>1.0</td>\n",
       "      <td>2003</td>\n",
       "      <td>NaN</td>\n",
       "      <td>NaN</td>\n",
       "      <td>['Chad Tew']</td>\n",
       "    </tr>\n",
       "    <tr>\n",
       "      <th>4</th>\n",
       "      <td>2003-0005</td>\n",
       "      <td>A chatroom ethnography: Evolution of community...</td>\n",
       "      <td>Paper</td>\n",
       "      <td>In creating an ethnography about the City, Tex...</td>\n",
       "      <td>1.0</td>\n",
       "      <td>2003</td>\n",
       "      <td>NaN</td>\n",
       "      <td>NaN</td>\n",
       "      <td>['Audra Diers']</td>\n",
       "    </tr>\n",
       "  </tbody>\n",
       "</table>\n",
       "</div>"
      ],
      "text/plain": [
       "    Paper ID                                              Title Paper Type  \\\n",
       "0  2003-0001  Access to the Media Versus Access to Audiences...      Paper   \n",
       "1  2003-0002  Accounting Episodes as Communicative Practice ...      Paper   \n",
       "2  2003-0003        Accounts of Single-fatherhood: A case study      Paper   \n",
       "3  2003-0004  A Challenge to the Duel: Socializing Dedicated...      Paper   \n",
       "4  2003-0005  A chatroom ethnography: Evolution of community...      Paper   \n",
       "\n",
       "                                            Abstract  Number of Authors  Year  \\\n",
       "0  When the issue of speakers' rights of access a...                1.0  2003   \n",
       "1  In this paper I describe accounting episodes a...                1.0  2003   \n",
       "2  Abstract\\nRelying on single-fathers accounts ...                4.0  2003   \n",
       "3  This paper explores the structural controls av...                1.0  2003   \n",
       "4  In creating an ethnography about the City, Tex...                1.0  2003   \n",
       "\n",
       "  Session Division/Unit                                            Authors  \n",
       "0     NaN           NaN                                  ['Philip Napoli']  \n",
       "1     NaN           NaN                                  ['Mariko Kotani']  \n",
       "2     NaN           NaN  ['Tara M Emmers-Sommer' 'David Rhea' 'Laura Tr...  \n",
       "3     NaN           NaN                                       ['Chad Tew']  \n",
       "4     NaN           NaN                                    ['Audra Diers']  "
      ]
     },
     "execution_count": 8,
     "metadata": {},
     "output_type": "execute_result"
    }
   ],
   "source": [
    "papers = pd.read_csv('../data/processed/paper_df.csv')\n",
    "papers.head()"
   ]
  },
  {
   "cell_type": "code",
   "execution_count": 9,
   "metadata": {},
   "outputs": [
    {
     "data": {
      "text/html": [
       "<div>\n",
       "<style scoped>\n",
       "    .dataframe tbody tr th:only-of-type {\n",
       "        vertical-align: middle;\n",
       "    }\n",
       "\n",
       "    .dataframe tbody tr th {\n",
       "        vertical-align: top;\n",
       "    }\n",
       "\n",
       "    .dataframe thead th {\n",
       "        text-align: right;\n",
       "    }\n",
       "</style>\n",
       "<table border=\"1\" class=\"dataframe\">\n",
       "  <thead>\n",
       "    <tr style=\"text-align: right;\">\n",
       "      <th></th>\n",
       "      <th>Paper ID</th>\n",
       "      <th>Title</th>\n",
       "      <th>Paper Type</th>\n",
       "      <th>Abstract</th>\n",
       "      <th>Number of Authors</th>\n",
       "      <th>Year</th>\n",
       "      <th>Session</th>\n",
       "      <th>Division/Unit</th>\n",
       "      <th>Authors</th>\n",
       "    </tr>\n",
       "  </thead>\n",
       "  <tbody>\n",
       "    <tr>\n",
       "      <th>2616</th>\n",
       "      <td>2005-0806</td>\n",
       "      <td>Interpersonal and Intrapersonal Motives to Acq...</td>\n",
       "      <td>Paper</td>\n",
       "      <td>The present investigation explores the influen...</td>\n",
       "      <td>NaN</td>\n",
       "      <td>2005</td>\n",
       "      <td>Why and How We Communication: The Role of Moti...</td>\n",
       "      <td>Information Systems</td>\n",
       "      <td>[]</td>\n",
       "    </tr>\n",
       "  </tbody>\n",
       "</table>\n",
       "</div>"
      ],
      "text/plain": [
       "       Paper ID                                              Title Paper Type  \\\n",
       "2616  2005-0806  Interpersonal and Intrapersonal Motives to Acq...      Paper   \n",
       "\n",
       "                                               Abstract  Number of Authors  \\\n",
       "2616  The present investigation explores the influen...                NaN   \n",
       "\n",
       "      Year                                            Session  \\\n",
       "2616  2005  Why and How We Communication: The Role of Moti...   \n",
       "\n",
       "            Division/Unit Authors  \n",
       "2616  Information Systems      []  "
      ]
     },
     "execution_count": 9,
     "metadata": {},
     "output_type": "execute_result"
    }
   ],
   "source": [
    "papers[papers['Paper ID'] == '2005-0806']"
   ]
  },
  {
   "cell_type": "code",
   "execution_count": 10,
   "metadata": {},
   "outputs": [],
   "source": [
    "papers['newAuthors'] = papers['Paper ID'].apply(lambda x: paperid_authors_dic.get(x, np.array([])))"
   ]
  },
  {
   "cell_type": "code",
   "execution_count": 20,
   "metadata": {},
   "outputs": [],
   "source": [
    "# papers['Authors'] = papers['Paper ID'].apply(lambda x: \", \".join(paperid_authors_dic[x]) if x in paperid_authors_dic else np.nan)"
   ]
  },
  {
   "cell_type": "code",
   "execution_count": 13,
   "metadata": {},
   "outputs": [
    {
     "data": {
      "text/plain": [
       "\"['Philip Napoli']\""
      ]
     },
     "execution_count": 13,
     "metadata": {},
     "output_type": "execute_result"
    }
   ],
   "source": [
    "papers['Authors'][0]"
   ]
  }
 ],
 "metadata": {
  "kernelspec": {
   "display_name": "farm",
   "language": "python",
   "name": "python3"
  },
  "language_info": {
   "codemirror_mode": {
    "name": "ipython",
    "version": 3
   },
   "file_extension": ".py",
   "mimetype": "text/x-python",
   "name": "python",
   "nbconvert_exporter": "python",
   "pygments_lexer": "ipython3",
   "version": "3.11.5"
  }
 },
 "nbformat": 4,
 "nbformat_minor": 2
}
