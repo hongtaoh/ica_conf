{
 "cells": [
  {
   "cell_type": "markdown",
   "id": "1fa33736",
   "metadata": {},
   "source": [
    "## Aim\n",
    "\n",
    "I aim to find the bug in 2014-2018 session codes. I found it and have updated the script. "
   ]
  },
  {
   "cell_type": "code",
   "execution_count": 1,
   "id": "0b990db7",
   "metadata": {},
   "outputs": [],
   "source": [
    "import pandas as pd\n",
    "import numpy as np\n",
    "import time \n",
    "import math\n",
    "import re\n",
    "from selenium import webdriver\n",
    "from selenium.webdriver.common.by import By\n",
    "from selenium.webdriver.support.ui import WebDriverWait\n",
    "from selenium.webdriver.support import expected_conditions as EC \n",
    "from selenium.common.exceptions import TimeoutException\n",
    "from selenium.webdriver.support.ui import Select"
   ]
  },
  {
   "cell_type": "code",
   "execution_count": 2,
   "id": "39b92ca4",
   "metadata": {},
   "outputs": [],
   "source": [
    "driver = webdriver.Firefox()\n",
    "wait = WebDriverWait(driver, 10)"
   ]
  },
  {
   "cell_type": "code",
   "execution_count": 3,
   "id": "3392a79a",
   "metadata": {},
   "outputs": [],
   "source": [
    "driver.get('https://convention2.allacademic.com/one/ica/ica14/')"
   ]
  },
  {
   "cell_type": "code",
   "execution_count": 4,
   "id": "bf3d49ec",
   "metadata": {},
   "outputs": [],
   "source": [
    "def click_browse_by_session_type():\n",
    "    '''click on \"browse by session type\"\n",
    "    '''\n",
    "    browse_by_session_type = driver.find_elements(\n",
    "        By.CSS_SELECTOR, \"li.ui-li-has-icon.ui-last-child > a\"\n",
    "    )[3]\n",
    "    browse_by_session_type.click()\n",
    "\n",
    "def click_paper_session():\n",
    "    '''click \"paper session\" button\n",
    "    '''\n",
    "    paper_session = driver.find_element(\n",
    "        By.XPATH, '//li[@class=\"ui-li-has-count\"][3] //a[@class=\"ui-btn\"]'\n",
    "    )\n",
    "    paper_session.click()\n",
    "\n",
    "def get_sessions():\n",
    "    '''These are session links\n",
    "    '''\n",
    "    sessions = driver.find_elements(\n",
    "        By.CSS_SELECTOR, 'a.ul-li-has-alt-left.ui-btn'\n",
    "    )\n",
    "    return sessions"
   ]
  },
  {
   "cell_type": "code",
   "execution_count": 5,
   "id": "986077a3",
   "metadata": {},
   "outputs": [],
   "source": [
    "click_browse_by_session_type()\n",
    "click_paper_session()\n",
    "sessions = get_sessions()"
   ]
  },
  {
   "cell_type": "code",
   "execution_count": 6,
   "id": "66a22fb9",
   "metadata": {},
   "outputs": [
    {
     "data": {
      "text/plain": [
       "228"
      ]
     },
     "execution_count": 6,
     "metadata": {},
     "output_type": "execute_result"
    }
   ],
   "source": [
    "len(sessions)"
   ]
  },
  {
   "cell_type": "code",
   "execution_count": 7,
   "id": "fcde044b",
   "metadata": {},
   "outputs": [],
   "source": [
    "s = sessions[0]"
   ]
  },
  {
   "cell_type": "code",
   "execution_count": 8,
   "id": "922b322e",
   "metadata": {},
   "outputs": [],
   "source": [
    "s_link = s.get_attribute('href')"
   ]
  },
  {
   "cell_type": "code",
   "execution_count": 9,
   "id": "224a845f",
   "metadata": {},
   "outputs": [],
   "source": [
    "# open a new window\n",
    "driver.execute_script(\"window.open('');\")\n",
    "# switch to the new window\n",
    "driver.switch_to.window(driver.window_handles[1])\n",
    "# open the session\n",
    "driver.get(s_link)"
   ]
  },
  {
   "cell_type": "code",
   "execution_count": 10,
   "id": "7a65c932",
   "metadata": {},
   "outputs": [],
   "source": [
    "session_title_e = driver.find_element(\n",
    "    By.CSS_SELECTOR, 'h3'\n",
    ")\n",
    "session_title = session_title_e.text\n",
    "\n",
    "# sub unit, cosponsor, chair, the presentations\n",
    "h4s = driver.find_elements(\n",
    "    By.CSS_SELECTOR, 'h4'\n",
    ")\n",
    "h4s_texts = [i.text for i in h4s]\n",
    "sub_unit_e_idx = h4s_texts.index('Sub Unit')"
   ]
  },
  {
   "cell_type": "code",
   "execution_count": 11,
   "id": "186d2bf4",
   "metadata": {},
   "outputs": [
    {
     "data": {
      "text/plain": [
       "'Meda Coverage of Health Issues'"
      ]
     },
     "execution_count": 11,
     "metadata": {},
     "output_type": "execute_result"
    }
   ],
   "source": [
    "session_title"
   ]
  },
  {
   "cell_type": "code",
   "execution_count": 13,
   "id": "79b8944b",
   "metadata": {},
   "outputs": [
    {
     "data": {
      "text/plain": [
       "['Sub Unit', 'Chair', 'Individual Presentations']"
      ]
     },
     "execution_count": 13,
     "metadata": {},
     "output_type": "execute_result"
    }
   ],
   "source": [
    "h4s_texts"
   ]
  },
  {
   "cell_type": "code",
   "execution_count": 14,
   "id": "e5c16633",
   "metadata": {},
   "outputs": [
    {
     "data": {
      "text/plain": [
       "0"
      ]
     },
     "execution_count": 14,
     "metadata": {},
     "output_type": "execute_result"
    }
   ],
   "source": [
    "sub_unit_e_idx"
   ]
  },
  {
   "cell_type": "code",
   "execution_count": 15,
   "id": "54ee96b2",
   "metadata": {},
   "outputs": [],
   "source": [
    "try:\n",
    "    sub_unit_e = driver.find_elements(\n",
    "        By.CSS_SELECTOR, 'ul.ui-listview.ui-listview-inset.ui-corner-all.ui-shadow'\n",
    "    )[4]\n",
    "    sub_unit = sub_unit_e.text\n",
    "except:\n",
    "    sub_unit = None"
   ]
  },
  {
   "cell_type": "code",
   "execution_count": 16,
   "id": "4e7f8694",
   "metadata": {},
   "outputs": [
    {
     "data": {
      "text/plain": [
       "'Health Communication'"
      ]
     },
     "execution_count": 16,
     "metadata": {},
     "output_type": "execute_result"
    }
   ],
   "source": [
    "sub_unit"
   ]
  },
  {
   "cell_type": "code",
   "execution_count": 17,
   "id": "89a6e4ba",
   "metadata": {},
   "outputs": [],
   "source": [
    "if 'Cosponsor' in h4s_texts:\n",
    "    chair_e_idx = 6\n",
    "else:\n",
    "    chair_e_idx = 5\n",
    "# chair_e_idx = h4s_texts.index('Chair')\n",
    "chair_graybox = driver.find_elements(\n",
    "    By.CSS_SELECTOR, 'ul.ui-listview.ui-listview-inset.ui-corner-all.ui-shadow'\n",
    ")[chair_e_idx]\n",
    "chair_es = chair_graybox.find_elements(\n",
    "    By.CSS_SELECTOR, 'li'\n",
    ")"
   ]
  },
  {
   "cell_type": "code",
   "execution_count": 30,
   "id": "4d61d9ef",
   "metadata": {},
   "outputs": [
    {
     "data": {
      "text/plain": [
       "[<selenium.webdriver.firefox.webelement.FirefoxWebElement (session=\"a8724699-22cb-457f-b006-d03c52012902\", element=\"d6da1928-786f-46c2-9844-2205f0c4e621\")>]"
      ]
     },
     "execution_count": 30,
     "metadata": {},
     "output_type": "execute_result"
    }
   ],
   "source": [
    "chair_es"
   ]
  },
  {
   "cell_type": "code",
   "execution_count": 31,
   "id": "f644c9a6",
   "metadata": {},
   "outputs": [
    {
     "data": {
      "text/plain": [
       "True"
      ]
     },
     "execution_count": 31,
     "metadata": {},
     "output_type": "execute_result"
    }
   ],
   "source": [
    "len(chair_es) == 1"
   ]
  },
  {
   "cell_type": "code",
   "execution_count": 34,
   "id": "e91de394",
   "metadata": {},
   "outputs": [],
   "source": [
    "if chair_es:\n",
    "    if len(chair_es) == 1:\n",
    "        chair_info = chair_es[0].text\n",
    "        chair_name = chair_info.split(', ')[0]\n",
    "        chair_aff = chair_info.split(', ')[1]\n",
    "    # this is to solve the issue of when there are multiple chairs. For example,\n",
    "    # year 2018, session 'Research Escalator - Part 1'\n",
    "    else:\n",
    "        chair_name = ''\n",
    "        chair_aff = ''\n",
    "        for chair_e in chair_es:\n",
    "            chair_info = chair_e.text\n",
    "            chair_name_i = chair_info.split(', ')[0]\n",
    "            chair_aff_i = chair_info.split(', ')[1]\n",
    "            chair_name += chair_name_i\n",
    "            chair_aff += chair_aff_i\n",
    "            if chair_e != chair_es[-1]:\n",
    "                chair_name += '; '\n",
    "                chair_aff += '; '"
   ]
  }
 ],
 "metadata": {
  "kernelspec": {
   "display_name": "Python 3 (ipykernel)",
   "language": "python",
   "name": "python3"
  },
  "language_info": {
   "codemirror_mode": {
    "name": "ipython",
    "version": 3
   },
   "file_extension": ".py",
   "mimetype": "text/x-python",
   "name": "python",
   "nbconvert_exporter": "python",
   "pygments_lexer": "ipython3",
   "version": "3.9.15"
  }
 },
 "nbformat": 4,
 "nbformat_minor": 5
}
