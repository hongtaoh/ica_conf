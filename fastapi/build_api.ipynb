{
 "cells": [
  {
   "cell_type": "code",
   "execution_count": 7,
   "metadata": {},
   "outputs": [
    {
     "name": "stdout",
     "output_type": "stream",
     "text": [
      "['carsApp', 'ica_conf', 'test', 'admin', 'local']\n",
      "['authors', 'papers', 'sessions']\n"
     ]
    }
   ],
   "source": [
    "from pymongo.mongo_client import MongoClient\n",
    "from pymongo.server_api import ServerApi\n",
    "import pandas as pd\n",
    "import json \n",
    "import numpy as np\n",
    "from dotenv import load_dotenv\n",
    "import os\n",
    "\n",
    "load_dotenv()\n",
    "uri = os.getenv(\"MONGODB_URI\")\n",
    "# Create a new client and connect to the server\n",
    "client = MongoClient(uri, server_api=ServerApi('1'))\n",
    "\n",
    "print(client.list_database_names())\n",
    "\n",
    "db = client.ica_conf\n",
    "\n",
    "print(db.list_collection_names())\n",
    "\n",
    "papers_collection = db['papers']\n",
    "authors_collection = db['authors']\n",
    "sessions_collection = db['sessions']"
   ]
  },
  {
   "cell_type": "code",
   "execution_count": 2,
   "metadata": {},
   "outputs": [],
   "source": [
    "from fastapi import FastAPI, Query\n",
    "from pymongo import MongoClient\n",
    "from typing import List, Optional\n",
    "\n",
    "app = FastAPI()"
   ]
  },
  {
   "cell_type": "code",
   "execution_count": 4,
   "metadata": {},
   "outputs": [],
   "source": [
    "@app.get(\"/papers\", response_model=List[dict])\n",
    "async def get_papers(\n",
    "    year: Optional[int] = Query(None),\n",
    "    paper_type: Optional[str] = Query(None, description='Type of presentation, either Paper or Poster'),\n",
    "    num_authors: Optional[int] = Query(None, alias='number_of_authors', description=\"Number of authors\"),\n",
    "    division: Optional[str] = Query(None, description=\"Division or Unit that organizes the paper\"),\n",
    "    paper_id: Optional[str] = Query(None, description=\"Unique ID assigned to the paper\"),\n",
    "    title_contains: Optional[str] = Query(None, description=\"Keyword to search in the paper title\"),\n",
    "    abstract_contains: Optional[str] = Query(None, description=\"Keyword to search in the paper abstract\")\n",
    "):\n",
    "    query = {}\n",
    "    if year is not None:\n",
    "        query['Year'] = year\n",
    "    if num_authors is not None:\n",
    "        query['Number of Authors'] = num_authors\n",
    "    if division:\n",
    "        query['Division/Unit'] = division \n",
    "    if paper_id:\n",
    "        query['Paper ID'] = paper_id \n",
    "    if title_contains:\n",
    "        query['Title'] = {\"$regex\": title_contains, \"$options\":\"i\"}\n",
    "    if abstract_contains:\n",
    "        query['Abstract'] = {\"$regex\": abstract_contains, \"$options\": \"i\"}\n",
    "    papers = list(papers_collection.find(query, {\"_id\":0}))\n",
    "    return papers"
   ]
  },
  {
   "cell_type": "code",
   "execution_count": null,
   "metadata": {},
   "outputs": [],
   "source": []
  },
  {
   "cell_type": "code",
   "execution_count": null,
   "metadata": {},
   "outputs": [],
   "source": []
  }
 ],
 "metadata": {
  "kernelspec": {
   "display_name": "farm",
   "language": "python",
   "name": "python3"
  },
  "language_info": {
   "codemirror_mode": {
    "name": "ipython",
    "version": 3
   },
   "file_extension": ".py",
   "mimetype": "text/x-python",
   "name": "python",
   "nbconvert_exporter": "python",
   "pygments_lexer": "ipython3",
   "version": "3.11.5"
  }
 },
 "nbformat": 4,
 "nbformat_minor": 2
}
