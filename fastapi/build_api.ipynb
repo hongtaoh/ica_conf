{
 "cells": [
  {
   "cell_type": "code",
   "execution_count": 1,
   "metadata": {},
   "outputs": [
    {
     "name": "stdout",
     "output_type": "stream",
     "text": [
      "['carsApp', 'ica_conf', 'test', 'admin', 'local']\n",
      "['papers', 'sessions', 'authors']\n"
     ]
    }
   ],
   "source": [
    "from pymongo.mongo_client import MongoClient\n",
    "from pymongo.server_api import ServerApi\n",
    "import pandas as pd\n",
    "import json \n",
    "import numpy as np\n",
    "from dotenv import load_dotenv\n",
    "import os\n",
    "\n",
    "load_dotenv()\n",
    "uri = os.getenv(\"MONGODB_URI\")\n",
    "# Create a new client and connect to the server\n",
    "client = MongoClient(uri, server_api=ServerApi('1'))\n",
    "\n",
    "print(client.list_database_names())\n",
    "\n",
    "db = client.ica_conf\n",
    "\n",
    "print(db.list_collection_names())\n",
    "\n",
    "papers_collection = db['papers']\n",
    "authors_collection = db['authors']\n",
    "sessions_collection = db['sessions']"
   ]
  },
  {
   "cell_type": "code",
   "execution_count": 2,
   "metadata": {},
   "outputs": [],
   "source": [
    "from fastapi import FastAPI, Query\n",
    "from pymongo import MongoClient\n",
    "from typing import List, Optional\n",
    "\n",
    "app = FastAPI()"
   ]
  },
  {
   "cell_type": "code",
   "execution_count": 3,
   "metadata": {},
   "outputs": [],
   "source": [
    "PAPERS_JSON = '../data/api/papers.json'\n",
    "AUTHORS_JSON = '../data/api/authors.json'\n",
    "SESSIONS_JSON = '../data/api/sessions.json'"
   ]
  },
  {
   "cell_type": "code",
   "execution_count": 4,
   "metadata": {},
   "outputs": [],
   "source": [
    "papers_data = pd.read_json(PAPERS_JSON).to_dict(orient='records')\n",
    "authors_data = pd.read_json(AUTHORS_JSON).to_dict(orient='records')\n",
    "sessions_data = pd.read_json(SESSIONS_JSON).to_dict(orient='records')"
   ]
  },
  {
   "cell_type": "code",
   "execution_count": 9,
   "metadata": {},
   "outputs": [
    {
     "data": {
      "text/html": [
       "<div>\n",
       "<style scoped>\n",
       "    .dataframe tbody tr th:only-of-type {\n",
       "        vertical-align: middle;\n",
       "    }\n",
       "\n",
       "    .dataframe tbody tr th {\n",
       "        vertical-align: top;\n",
       "    }\n",
       "\n",
       "    .dataframe thead th {\n",
       "        text-align: right;\n",
       "    }\n",
       "</style>\n",
       "<table border=\"1\" class=\"dataframe\">\n",
       "  <thead>\n",
       "    <tr style=\"text-align: right;\">\n",
       "      <th></th>\n",
       "      <th>paper_id</th>\n",
       "      <th>title</th>\n",
       "      <th>paper_type</th>\n",
       "      <th>abstract</th>\n",
       "      <th>number_of_authors</th>\n",
       "      <th>year</th>\n",
       "      <th>session</th>\n",
       "      <th>division</th>\n",
       "      <th>authorships</th>\n",
       "      <th>author_names</th>\n",
       "      <th>session_info</th>\n",
       "    </tr>\n",
       "  </thead>\n",
       "  <tbody>\n",
       "    <tr>\n",
       "      <th>0</th>\n",
       "      <td>2003-0001</td>\n",
       "      <td>Access to the Media Versus Access to Audiences...</td>\n",
       "      <td>Paper</td>\n",
       "      <td>When the issue of speakers' rights of access a...</td>\n",
       "      <td>1</td>\n",
       "      <td>2003</td>\n",
       "      <td>None</td>\n",
       "      <td>None</td>\n",
       "      <td>[{'position': 0, 'author_name': 'Philip Napoli...</td>\n",
       "      <td>[Philip Napoli]</td>\n",
       "      <td>None</td>\n",
       "    </tr>\n",
       "    <tr>\n",
       "      <th>1</th>\n",
       "      <td>2003-0002</td>\n",
       "      <td>Accounting Episodes as Communicative Practice ...</td>\n",
       "      <td>Paper</td>\n",
       "      <td>In this paper I describe accounting episodes a...</td>\n",
       "      <td>1</td>\n",
       "      <td>2003</td>\n",
       "      <td>None</td>\n",
       "      <td>None</td>\n",
       "      <td>[{'position': 0, 'author_name': 'Mariko Kotani...</td>\n",
       "      <td>[Mariko Kotani]</td>\n",
       "      <td>None</td>\n",
       "    </tr>\n",
       "    <tr>\n",
       "      <th>2</th>\n",
       "      <td>2003-0003</td>\n",
       "      <td>Accounts of Single-fatherhood: A case study</td>\n",
       "      <td>Paper</td>\n",
       "      <td>Abstract\\nRelying on single-fathers accounts ...</td>\n",
       "      <td>4</td>\n",
       "      <td>2003</td>\n",
       "      <td>None</td>\n",
       "      <td>None</td>\n",
       "      <td>[{'position': 0, 'author_name': 'Tara M Emmers...</td>\n",
       "      <td>[Tara M Emmers-Sommer, David Rhea, Laura Tripl...</td>\n",
       "      <td>None</td>\n",
       "    </tr>\n",
       "    <tr>\n",
       "      <th>3</th>\n",
       "      <td>2003-0004</td>\n",
       "      <td>A Challenge to the Duel: Socializing Dedicated...</td>\n",
       "      <td>Paper</td>\n",
       "      <td>This paper explores the structural controls av...</td>\n",
       "      <td>1</td>\n",
       "      <td>2003</td>\n",
       "      <td>None</td>\n",
       "      <td>None</td>\n",
       "      <td>[{'position': 0, 'author_name': 'Chad Tew', 'a...</td>\n",
       "      <td>[Chad Tew]</td>\n",
       "      <td>None</td>\n",
       "    </tr>\n",
       "    <tr>\n",
       "      <th>4</th>\n",
       "      <td>2003-0005</td>\n",
       "      <td>A chatroom ethnography: Evolution of community...</td>\n",
       "      <td>Paper</td>\n",
       "      <td>In creating an ethnography about the City, Tex...</td>\n",
       "      <td>1</td>\n",
       "      <td>2003</td>\n",
       "      <td>None</td>\n",
       "      <td>None</td>\n",
       "      <td>[{'position': 0, 'author_name': 'Audra Diers',...</td>\n",
       "      <td>[Audra Diers]</td>\n",
       "      <td>None</td>\n",
       "    </tr>\n",
       "  </tbody>\n",
       "</table>\n",
       "</div>"
      ],
      "text/plain": [
       "    paper_id                                              title paper_type  \\\n",
       "0  2003-0001  Access to the Media Versus Access to Audiences...      Paper   \n",
       "1  2003-0002  Accounting Episodes as Communicative Practice ...      Paper   \n",
       "2  2003-0003        Accounts of Single-fatherhood: A case study      Paper   \n",
       "3  2003-0004  A Challenge to the Duel: Socializing Dedicated...      Paper   \n",
       "4  2003-0005  A chatroom ethnography: Evolution of community...      Paper   \n",
       "\n",
       "                                            abstract  number_of_authors  year  \\\n",
       "0  When the issue of speakers' rights of access a...                  1  2003   \n",
       "1  In this paper I describe accounting episodes a...                  1  2003   \n",
       "2  Abstract\\nRelying on single-fathers accounts ...                  4  2003   \n",
       "3  This paper explores the structural controls av...                  1  2003   \n",
       "4  In creating an ethnography about the City, Tex...                  1  2003   \n",
       "\n",
       "  session division                                        authorships  \\\n",
       "0    None     None  [{'position': 0, 'author_name': 'Philip Napoli...   \n",
       "1    None     None  [{'position': 0, 'author_name': 'Mariko Kotani...   \n",
       "2    None     None  [{'position': 0, 'author_name': 'Tara M Emmers...   \n",
       "3    None     None  [{'position': 0, 'author_name': 'Chad Tew', 'a...   \n",
       "4    None     None  [{'position': 0, 'author_name': 'Audra Diers',...   \n",
       "\n",
       "                                        author_names session_info  \n",
       "0                                    [Philip Napoli]         None  \n",
       "1                                    [Mariko Kotani]         None  \n",
       "2  [Tara M Emmers-Sommer, David Rhea, Laura Tripl...         None  \n",
       "3                                         [Chad Tew]         None  \n",
       "4                                      [Audra Diers]         None  "
      ]
     },
     "execution_count": 9,
     "metadata": {},
     "output_type": "execute_result"
    }
   ],
   "source": [
    "papers_df = pd.DataFrame(papers_data)\n",
    "papers_df.head()"
   ]
  },
  {
   "cell_type": "code",
   "execution_count": 10,
   "metadata": {},
   "outputs": [
    {
     "name": "stdout",
     "output_type": "stream",
     "text": [
      "Columns with no null values: ['paper_id', 'title', 'paper_type', 'number_of_authors', 'year']\n"
     ]
    }
   ],
   "source": [
    "non_null_columns = papers_df.columns[papers_df.isnull().sum() == 0]\n",
    "print(\"Columns with no null values:\", non_null_columns.tolist())"
   ]
  },
  {
   "cell_type": "code",
   "execution_count": 11,
   "metadata": {},
   "outputs": [
    {
     "name": "stdout",
     "output_type": "stream",
     "text": [
      "Columns with no null values: ['author_name', 'attend_count', 'paper_count', 'paper_ids', 'affiliations', 'affiliation_history', 'years_attended']\n"
     ]
    }
   ],
   "source": [
    "authors_df = pd.DataFrame(authors_data)\n",
    "non_null_columns = authors_df.columns[authors_df.isnull().sum() == 0]\n",
    "print(\"Columns with no null values:\", non_null_columns.tolist())"
   ]
  },
  {
   "cell_type": "code",
   "execution_count": 12,
   "metadata": {},
   "outputs": [
    {
     "name": "stdout",
     "output_type": "stream",
     "text": [
      "Columns with no null values: ['session', 'division']\n"
     ]
    }
   ],
   "source": [
    "sessions_df = pd.DataFrame(sessions_data)\n",
    "non_null_columns = sessions_df.columns[sessions_df.isnull().sum() == 0]\n",
    "print(\"Columns with no null values:\", non_null_columns.tolist())"
   ]
  },
  {
   "cell_type": "code",
   "execution_count": 5,
   "metadata": {},
   "outputs": [
    {
     "data": {
      "text/plain": [
       "{'paper_id': '2003-0001',\n",
       " 'title': 'Access to the Media Versus Access to Audiences: The Distinction and its Implications for Media Regulation and Policy',\n",
       " 'paper_type': 'Paper',\n",
       " 'abstract': 'When the issue of speakers\\' rights of access arises in media regulation and policy contexts, the focus typically is on the concept of speakers\\' rights of access \"to the media,\" or \"to the press.\" This right typically is premised on the audience\\'s need for access to diverse sources and content. In contrast, in many non-mediated contexts, the concept of speakers\\' rights of access frequently is defined in terms of the speaker\\'s own First Amendment right of access to audiences. This paper explores the distinctions between these differing interpretations of a speaker\\'s access rights and argues that the concept of a speaker\\'s right of access to audiences merits a more prominent position in media regulation and policy. This paper then explores the implications of such a shift in perspective for media regulation and policy-making.',\n",
       " 'number_of_authors': 1,\n",
       " 'year': 2003,\n",
       " 'session': None,\n",
       " 'division': None,\n",
       " 'authorships': [{'position': 0,\n",
       "   'author_name': 'Philip Napoli',\n",
       "   'author_affiliation': 'Fordham U'}],\n",
       " 'author_names': ['Philip Napoli'],\n",
       " 'session_info': None}"
      ]
     },
     "execution_count": 5,
     "metadata": {},
     "output_type": "execute_result"
    }
   ],
   "source": [
    "papers_data[0]"
   ]
  },
  {
   "cell_type": "code",
   "execution_count": 6,
   "metadata": {},
   "outputs": [
    {
     "data": {
      "text/plain": [
       "{'author_name': 'James H. Watt',\n",
       " 'attend_count': 6,\n",
       " 'paper_count': 8,\n",
       " 'paper_ids': ['2004-0205',\n",
       "  '2004-0565',\n",
       "  '2004-0880',\n",
       "  '2005-0733',\n",
       "  '2008-1136',\n",
       "  '2009-0122',\n",
       "  '2013-0174',\n",
       "  '2015-0512'],\n",
       " 'affiliations': ['Rensselaer Polytechnic Institute', 'U of Connecticut'],\n",
       " 'affiliation_history': 'Rensselaer Polytechnic Institute -> U of Connecticut',\n",
       " 'years_attended': [2004, 2005, 2008, 2009, 2013, 2015]}"
      ]
     },
     "execution_count": 6,
     "metadata": {},
     "output_type": "execute_result"
    }
   ],
   "source": [
    "authors_data[1000]"
   ]
  },
  {
   "cell_type": "code",
   "execution_count": 7,
   "metadata": {},
   "outputs": [
    {
     "data": {
      "text/plain": [
       "{'session': '\"Let\\'s Research It All!\" New Approaches for Video Games and Their Effects',\n",
       " 'session_type': 'Paper Session',\n",
       " 'chair_name': 'Johannes Breuer',\n",
       " 'chair_affiliation': 'GESIS – Leibniz-Institute for the Social Sciences',\n",
       " 'division': 'Game Studies',\n",
       " 'years': [2017],\n",
       " 'paper_count': 5.0}"
      ]
     },
     "execution_count": 7,
     "metadata": {},
     "output_type": "execute_result"
    }
   ],
   "source": [
    "sessions_data[0]"
   ]
  },
  {
   "cell_type": "code",
   "execution_count": null,
   "metadata": {},
   "outputs": [],
   "source": []
  }
 ],
 "metadata": {
  "kernelspec": {
   "display_name": "farm",
   "language": "python",
   "name": "python3"
  },
  "language_info": {
   "codemirror_mode": {
    "name": "ipython",
    "version": 3
   },
   "file_extension": ".py",
   "mimetype": "text/x-python",
   "name": "python",
   "nbconvert_exporter": "python",
   "pygments_lexer": "ipython3",
   "version": "3.11.5"
  }
 },
 "nbformat": 4,
 "nbformat_minor": 2
}
